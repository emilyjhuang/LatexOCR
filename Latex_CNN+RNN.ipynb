{
  "nbformat": 4,
  "nbformat_minor": 0,
  "metadata": {
    "colab": {
      "provenance": [],
      "gpuType": "T4"
    },
    "kernelspec": {
      "name": "python3",
      "display_name": "Python 3"
    },
    "language_info": {
      "name": "python"
    },
    "accelerator": "GPU"
  },
  "cells": [
    {
      "cell_type": "markdown",
      "source": [
        "The model architecture: https://ieeexplore.ieee.org/document/8947839/similar#similar\n"
      ],
      "metadata": {
        "id": "q8Y6sweBRXJa"
      }
    },
    {
      "cell_type": "code",
      "execution_count": 1,
      "metadata": {
        "id": "G2QqBwOWPfJE"
      },
      "outputs": [],
      "source": [
        "# Import necessary packages\n",
        "import torch.nn as nn\n",
        "import torchvision.models as models\n",
        "from torch.utils.data import Dataset, DataLoader\n",
        "import torchvision.transforms as transforms\n",
        "import torch\n",
        "from torchvision.io import read_image\n",
        "import re\n",
        "from PIL import Image\n",
        "import matplotlib.pyplot as plt\n",
        "from torch.nn.utils.rnn import pad_sequence\n",
        "import torch.optim as optim\n",
        "from tqdm import tqdm"
      ]
    },
    {
      "cell_type": "markdown",
      "source": [
        "Download dataset from kaggle"
      ],
      "metadata": {
        "id": "T2NA9YWVWQFY"
      }
    },
    {
      "cell_type": "code",
      "source": [
        "!pip install kaggle"
      ],
      "metadata": {
        "id": "PmthFA-kWNPu"
      },
      "execution_count": null,
      "outputs": []
    },
    {
      "cell_type": "code",
      "source": [
        "from google.colab import files\n",
        "files.upload()  # Upload kaggle.json"
      ],
      "metadata": {
        "colab": {
          "base_uri": "https://localhost:8080/",
          "height": 90
        },
        "id": "4Taf8DCVWr9a",
        "outputId": "a90e4d07-be15-4f47-a53e-e9831dc5290c"
      },
      "execution_count": 3,
      "outputs": [
        {
          "output_type": "display_data",
          "data": {
            "text/plain": [
              "<IPython.core.display.HTML object>"
            ],
            "text/html": [
              "\n",
              "     <input type=\"file\" id=\"files-dd5a4922-0ad3-42ba-886d-7bd42c3331cf\" name=\"files[]\" multiple disabled\n",
              "        style=\"border:none\" />\n",
              "     <output id=\"result-dd5a4922-0ad3-42ba-886d-7bd42c3331cf\">\n",
              "      Upload widget is only available when the cell has been executed in the\n",
              "      current browser session. Please rerun this cell to enable.\n",
              "      </output>\n",
              "      <script>// Copyright 2017 Google LLC\n",
              "//\n",
              "// Licensed under the Apache License, Version 2.0 (the \"License\");\n",
              "// you may not use this file except in compliance with the License.\n",
              "// You may obtain a copy of the License at\n",
              "//\n",
              "//      http://www.apache.org/licenses/LICENSE-2.0\n",
              "//\n",
              "// Unless required by applicable law or agreed to in writing, software\n",
              "// distributed under the License is distributed on an \"AS IS\" BASIS,\n",
              "// WITHOUT WARRANTIES OR CONDITIONS OF ANY KIND, either express or implied.\n",
              "// See the License for the specific language governing permissions and\n",
              "// limitations under the License.\n",
              "\n",
              "/**\n",
              " * @fileoverview Helpers for google.colab Python module.\n",
              " */\n",
              "(function(scope) {\n",
              "function span(text, styleAttributes = {}) {\n",
              "  const element = document.createElement('span');\n",
              "  element.textContent = text;\n",
              "  for (const key of Object.keys(styleAttributes)) {\n",
              "    element.style[key] = styleAttributes[key];\n",
              "  }\n",
              "  return element;\n",
              "}\n",
              "\n",
              "// Max number of bytes which will be uploaded at a time.\n",
              "const MAX_PAYLOAD_SIZE = 100 * 1024;\n",
              "\n",
              "function _uploadFiles(inputId, outputId) {\n",
              "  const steps = uploadFilesStep(inputId, outputId);\n",
              "  const outputElement = document.getElementById(outputId);\n",
              "  // Cache steps on the outputElement to make it available for the next call\n",
              "  // to uploadFilesContinue from Python.\n",
              "  outputElement.steps = steps;\n",
              "\n",
              "  return _uploadFilesContinue(outputId);\n",
              "}\n",
              "\n",
              "// This is roughly an async generator (not supported in the browser yet),\n",
              "// where there are multiple asynchronous steps and the Python side is going\n",
              "// to poll for completion of each step.\n",
              "// This uses a Promise to block the python side on completion of each step,\n",
              "// then passes the result of the previous step as the input to the next step.\n",
              "function _uploadFilesContinue(outputId) {\n",
              "  const outputElement = document.getElementById(outputId);\n",
              "  const steps = outputElement.steps;\n",
              "\n",
              "  const next = steps.next(outputElement.lastPromiseValue);\n",
              "  return Promise.resolve(next.value.promise).then((value) => {\n",
              "    // Cache the last promise value to make it available to the next\n",
              "    // step of the generator.\n",
              "    outputElement.lastPromiseValue = value;\n",
              "    return next.value.response;\n",
              "  });\n",
              "}\n",
              "\n",
              "/**\n",
              " * Generator function which is called between each async step of the upload\n",
              " * process.\n",
              " * @param {string} inputId Element ID of the input file picker element.\n",
              " * @param {string} outputId Element ID of the output display.\n",
              " * @return {!Iterable<!Object>} Iterable of next steps.\n",
              " */\n",
              "function* uploadFilesStep(inputId, outputId) {\n",
              "  const inputElement = document.getElementById(inputId);\n",
              "  inputElement.disabled = false;\n",
              "\n",
              "  const outputElement = document.getElementById(outputId);\n",
              "  outputElement.innerHTML = '';\n",
              "\n",
              "  const pickedPromise = new Promise((resolve) => {\n",
              "    inputElement.addEventListener('change', (e) => {\n",
              "      resolve(e.target.files);\n",
              "    });\n",
              "  });\n",
              "\n",
              "  const cancel = document.createElement('button');\n",
              "  inputElement.parentElement.appendChild(cancel);\n",
              "  cancel.textContent = 'Cancel upload';\n",
              "  const cancelPromise = new Promise((resolve) => {\n",
              "    cancel.onclick = () => {\n",
              "      resolve(null);\n",
              "    };\n",
              "  });\n",
              "\n",
              "  // Wait for the user to pick the files.\n",
              "  const files = yield {\n",
              "    promise: Promise.race([pickedPromise, cancelPromise]),\n",
              "    response: {\n",
              "      action: 'starting',\n",
              "    }\n",
              "  };\n",
              "\n",
              "  cancel.remove();\n",
              "\n",
              "  // Disable the input element since further picks are not allowed.\n",
              "  inputElement.disabled = true;\n",
              "\n",
              "  if (!files) {\n",
              "    return {\n",
              "      response: {\n",
              "        action: 'complete',\n",
              "      }\n",
              "    };\n",
              "  }\n",
              "\n",
              "  for (const file of files) {\n",
              "    const li = document.createElement('li');\n",
              "    li.append(span(file.name, {fontWeight: 'bold'}));\n",
              "    li.append(span(\n",
              "        `(${file.type || 'n/a'}) - ${file.size} bytes, ` +\n",
              "        `last modified: ${\n",
              "            file.lastModifiedDate ? file.lastModifiedDate.toLocaleDateString() :\n",
              "                                    'n/a'} - `));\n",
              "    const percent = span('0% done');\n",
              "    li.appendChild(percent);\n",
              "\n",
              "    outputElement.appendChild(li);\n",
              "\n",
              "    const fileDataPromise = new Promise((resolve) => {\n",
              "      const reader = new FileReader();\n",
              "      reader.onload = (e) => {\n",
              "        resolve(e.target.result);\n",
              "      };\n",
              "      reader.readAsArrayBuffer(file);\n",
              "    });\n",
              "    // Wait for the data to be ready.\n",
              "    let fileData = yield {\n",
              "      promise: fileDataPromise,\n",
              "      response: {\n",
              "        action: 'continue',\n",
              "      }\n",
              "    };\n",
              "\n",
              "    // Use a chunked sending to avoid message size limits. See b/62115660.\n",
              "    let position = 0;\n",
              "    do {\n",
              "      const length = Math.min(fileData.byteLength - position, MAX_PAYLOAD_SIZE);\n",
              "      const chunk = new Uint8Array(fileData, position, length);\n",
              "      position += length;\n",
              "\n",
              "      const base64 = btoa(String.fromCharCode.apply(null, chunk));\n",
              "      yield {\n",
              "        response: {\n",
              "          action: 'append',\n",
              "          file: file.name,\n",
              "          data: base64,\n",
              "        },\n",
              "      };\n",
              "\n",
              "      let percentDone = fileData.byteLength === 0 ?\n",
              "          100 :\n",
              "          Math.round((position / fileData.byteLength) * 100);\n",
              "      percent.textContent = `${percentDone}% done`;\n",
              "\n",
              "    } while (position < fileData.byteLength);\n",
              "  }\n",
              "\n",
              "  // All done.\n",
              "  yield {\n",
              "    response: {\n",
              "      action: 'complete',\n",
              "    }\n",
              "  };\n",
              "}\n",
              "\n",
              "scope.google = scope.google || {};\n",
              "scope.google.colab = scope.google.colab || {};\n",
              "scope.google.colab._files = {\n",
              "  _uploadFiles,\n",
              "  _uploadFilesContinue,\n",
              "};\n",
              "})(self);\n",
              "</script> "
            ]
          },
          "metadata": {}
        },
        {
          "output_type": "stream",
          "name": "stdout",
          "text": [
            "Saving kaggle.json to kaggle.json\n"
          ]
        },
        {
          "output_type": "execute_result",
          "data": {
            "text/plain": [
              "{'kaggle.json': b'{\"username\":\"eunicespak\",\"key\":\"2d10dc86008d17d358cab63dedad35c8\"}'}"
            ]
          },
          "metadata": {},
          "execution_count": 3
        }
      ]
    },
    {
      "cell_type": "code",
      "source": [
        "import os\n",
        "os.makedirs(\"/content/.kaggle\", exist_ok=True)\n",
        "\n",
        "# Move the kaggle.json file to .kaggle directory\n",
        "!mv kaggle.json /content/.kaggle/\n",
        "\n",
        "# Set permissions to the kaggle.json file\n",
        "!chmod 600 /content/.kaggle/kaggle.json"
      ],
      "metadata": {
        "id": "LQxqNbxSWyBM"
      },
      "execution_count": 4,
      "outputs": []
    },
    {
      "cell_type": "code",
      "source": [
        "# Download the dataset\n",
        "!kaggle datasets download -d shahrukhkhan/im2latex100k\n",
        "\n",
        "# Unzip the downloaded dataset\n",
        "!unzip im2latex100k.zip -d im2latex100k"
      ],
      "metadata": {
        "id": "UvzcaBU3XC4_"
      },
      "execution_count": null,
      "outputs": []
    },
    {
      "cell_type": "markdown",
      "source": [
        "Data preprocessing"
      ],
      "metadata": {
        "id": "qHmDUYOAaMoM"
      }
    },
    {
      "cell_type": "code",
      "source": [
        "import pandas as pd\n",
        "from pathlib import Path\n",
        "\n",
        "# Define dataset paths\n",
        "data_dir = Path(\"/content/im2latex100k\")\n",
        "image_dir = data_dir / \"formula_images_processed\"\n",
        "train_csv = data_dir / \"im2latex_train.csv\"\n",
        "validate_csv = data_dir / \"im2latex_validate.csv\"\n",
        "test_csv = data_dir / \"im2latex_test.csv\"\n",
        "formulas_csv = data_dir / \"im2latex_formulas.norm.csv\""
      ],
      "metadata": {
        "id": "l3zi2xxxXGHX"
      },
      "execution_count": 6,
      "outputs": []
    },
    {
      "cell_type": "code",
      "source": [
        "# for building the vocab (testing later)\n",
        "df = pd.read_csv(train_csv).dropna()"
      ],
      "metadata": {
        "id": "eURpe661dJ9E"
      },
      "execution_count": 7,
      "outputs": []
    },
    {
      "cell_type": "code",
      "source": [
        "# Create a vocabulary for tokenizing and encoding LaTeX formulas into numerical sequences\n",
        "class Vocabulary():\n",
        "    def __init__(self, freq_th=1):\n",
        "        self.itos = {0:\"[pad]\",1:\"[sos]\",2:\"[eos]\",3:\"[unk]\"}\n",
        "        self.stoi = {\"[pad]\":0,\"[sos]\":1,\"[eos]\":2,\"[unk]\":3}\n",
        "        self.freq_th = freq_th\n",
        "\n",
        "        #regex\n",
        "        self.TOKENIZE_PATTERN = re.compile(\n",
        "            \"(\\\\\\\\[a-zA-Z]+)|\" + '((\\\\\\\\)*[$-/:-?{-~!\"^_`\\[\\]])|' + \"(\\w)|\" + \"(\\\\\\\\)\"\n",
        "        )\n",
        "\n",
        "    def __len__(self):\n",
        "        return len(self.itos)\n",
        "\n",
        "    @staticmethod\n",
        "    def tokenizer(TOKENIZE_PATTERN, formula: str):\n",
        "        tokens = re.finditer(TOKENIZE_PATTERN, formula)\n",
        "        tokens = list(map(lambda x: x.group(0), tokens))\n",
        "        tokens = [x for x in tokens if x is not None and x != \"\"]\n",
        "        return tokens\n",
        "\n",
        "    def build_vocabulary(self,sentence_list):\n",
        "        frequency = {}\n",
        "        idx = 4\n",
        "        for sentence in sentence_list:\n",
        "            for word in self.tokenizer(self.TOKENIZE_PATTERN,sentence):\n",
        "                if word not in frequency:\n",
        "                    frequency[word] = 1\n",
        "                else:\n",
        "                    frequency[word] += 1\n",
        "\n",
        "                if (word not in self.stoi and frequency[word] > self.freq_th-1):\n",
        "                    self.itos[idx] = word\n",
        "                    self.stoi[word] = idx\n",
        "                    idx += 1\n",
        "\n",
        "    def numericalize(self,sentence):\n",
        "        tokenized_text = self.tokenizer(self.TOKENIZE_PATTERN,sentence)\n",
        "        return [self.stoi[word] if word in self.stoi else self.stoi[\"[unk]\"] for word in tokenized_text ] #UNK HOLDER"
      ],
      "metadata": {
        "id": "KvKfVkApcLEZ"
      },
      "execution_count": null,
      "outputs": []
    },
    {
      "cell_type": "code",
      "source": [
        "v = Vocabulary(1)\n",
        "v.build_vocabulary(df['formula'].tolist())\n",
        "len(v.itos)"
      ],
      "metadata": {
        "colab": {
          "base_uri": "https://localhost:8080/"
        },
        "id": "YnHiJadNc_nF",
        "outputId": "911ac254-bec7-4452-bf61-d7932e805998"
      },
      "execution_count": null,
      "outputs": [
        {
          "output_type": "execute_result",
          "data": {
            "text/plain": [
              "491"
            ]
          },
          "metadata": {},
          "execution_count": 10
        }
      ]
    },
    {
      "cell_type": "code",
      "source": [
        "# Preprocess input image\n",
        "transform = transforms.Compose([\n",
        "    transforms.Resize((224, 448)),\n",
        "    transforms.ToTensor(),\n",
        "    transforms.Normalize(mean=[0.485, 0.456, 0.406], std=[0.229, 0.224, 0.225]),\n",
        "])"
      ],
      "metadata": {
        "id": "zS69qnvscdMb"
      },
      "execution_count": null,
      "outputs": []
    },
    {
      "cell_type": "code",
      "source": [
        "\n",
        "class OCRDataset(Dataset):\n",
        "    def __init__(self, csv_file, root_dir='/content/im2latex100k/', transform=None, threshold=1):\n",
        "        self.root_dir = root_dir\n",
        "        self.transform = transform\n",
        "\n",
        "        # Label and image df\n",
        "        self.df = pd.read_csv(csv_file).dropna()\n",
        "\n",
        "        # initialize vocabulary\n",
        "        self.vocab = Vocabulary(threshold)\n",
        "        self.vocab.build_vocabulary(self.df['formula'].tolist()) # building vocab\n",
        "\n",
        "    def __len__(self):\n",
        "        return len(self.df)\n",
        "\n",
        "    def __getitem__(self,index):\n",
        "        row = self.df.iloc[index]\n",
        "        img_path = os.path.join(self.root_dir, \"formula_images_processed/formula_images_processed\", row['image'])\n",
        "\n",
        "        image = Image.open(img_path).convert(\"RGB\")\n",
        "        if self.transform:\n",
        "            image = self.transform(image)\n",
        "\n",
        "        latex = row['formula'] #latex code\n",
        "        num_to_tex = [self.vocab.stoi[\"[sos]\"]]\n",
        "        num_to_tex += self.vocab.numericalize(latex)\n",
        "        num_to_tex.append(self.vocab.stoi[\"[eos]\"])\n",
        "\n",
        "        # return the pair\n",
        "        return image,torch.tensor(num_to_tex) # image and num_to_tex"
      ],
      "metadata": {
        "id": "9fJ-0insce6K"
      },
      "execution_count": null,
      "outputs": []
    },
    {
      "cell_type": "code",
      "source": [
        "train_dataset = OCRDataset(train_csv, data_dir, transform)"
      ],
      "metadata": {
        "id": "XVoFVSbOcsq2"
      },
      "execution_count": null,
      "outputs": []
    },
    {
      "cell_type": "code",
      "source": [
        "# Testing OCRDataset class\n",
        "#n = 674\n",
        "#b,a = train_dataset.__getitem__(n)\n",
        "#print(a)\n",
        "#s = \"\"\n",
        "#c=0\n",
        "#for i in a:\n",
        "    #c+=1\n",
        "    #s+=train_dataset.vocab.itos[i.item()]\n",
        "    #s+=\" \"\n",
        "#print(s)\n",
        "#print(df['formula'][n])\n",
        "#plt.imshow(b.permute(1,2,0))\n",
        "# plt.imshow(Image.open(os.path.join('/kaggle/input/im2latex100k/formula_images_processed/formula_images_processed/',df['image'][0])))"
      ],
      "metadata": {
        "colab": {
          "base_uri": "https://localhost:8080/",
          "height": 434
        },
        "id": "pQ6Wx3iNc92e",
        "outputId": "cb5e61f9-aba3-4e12-b77f-bc5ec66735ff"
      },
      "execution_count": null,
      "outputs": [
        {
          "output_type": "stream",
          "name": "stderr",
          "text": [
            "WARNING:matplotlib.image:Clipping input data to the valid range for imshow with RGB data ([0..1] for floats or [0..255] for integers).\n"
          ]
        },
        {
          "output_type": "stream",
          "name": "stdout",
          "text": [
            "tensor([  1,  72,  33,  22,  30,  93,  25,   7,  26,  13, 150,   6,   7, 112,\n",
            "         13,  47,  36,  93,  25,   7,  26,  13, 150,   6,   7, 112,  13,  54,\n",
            "          2])\n",
            "[sos] V = - g D ^ { 2 } \\Gamma _ { 4 } + H D ^ { 2 } \\Gamma _ { 4 } . [eos] \n",
            "V = - g D ^ { 2 } \\Gamma _ { 4 } + H D ^ { 2 } \\Gamma _ { 4 } .\n"
          ]
        },
        {
          "output_type": "execute_result",
          "data": {
            "text/plain": [
              "<matplotlib.image.AxesImage at 0x7c36f0221f60>"
            ]
          },
          "metadata": {},
          "execution_count": 14
        },
        {
          "output_type": "display_data",
          "data": {
            "text/plain": [
              "<Figure size 640x480 with 1 Axes>"
            ],
            "image/png": "[encoded data removed]"
          },
          "metadata": {}
        }
      ]
    },
    {
      "cell_type": "code",
      "source": [
        "# A custom collate function for a PyTorch DataLoader\n",
        "class OCRCollate:\n",
        "    def __init__(self,pad_idx):\n",
        "        self.pad_idx = pad_idx\n",
        "\n",
        "    def __call__(self, batch):\n",
        "#         print(batch[0].shape)\n",
        "        imgs = [item[0].unsqueeze(0) for item in batch]\n",
        "        imgs = torch.cat(imgs,dim=0)\n",
        "        targets = [item[1] for item in batch]\n",
        "        targets = pad_sequence(targets, batch_first = True, padding_value = self.pad_idx)\n",
        "\n",
        "        return imgs,targets"
      ],
      "metadata": {
        "id": "HnsPvQEAfQVK"
      },
      "execution_count": null,
      "outputs": []
    },
    {
      "cell_type": "code",
      "source": [
        "def get_loader(csv_file, root_dir='/content/im2latex100k/', transform=transform, batch_size=32, num_workers=2, shuffle=True, pin_memory=True):\n",
        "    dataset = OCRDataset(csv_file=csv_file, root_dir=root_dir, transform=transform)\n",
        "    pad_value = dataset.vocab.stoi[\"[pad]\"]\n",
        "\n",
        "    loader = DataLoader(dataset=dataset, batch_size=32, num_workers=2, shuffle=True, pin_memory=True, collate_fn=OCRCollate(pad_value))\n",
        "\n",
        "    return loader, dataset"
      ],
      "metadata": {
        "id": "5wkf_ni0f5KQ"
      },
      "execution_count": null,
      "outputs": []
    },
    {
      "cell_type": "code",
      "source": [
        "# Creating dataloader\n",
        "train_loader, train_dataset = get_loader(csv_file = train_csv)\n",
        "test_loader, test_dataset = get_loader(csv_file = test_csv)\n",
        "val_loader, val_dataset = get_loader(csv_file = validate_csv)"
      ],
      "metadata": {
        "id": "d1Txj0AbgID9"
      },
      "execution_count": null,
      "outputs": []
    },
    {
      "cell_type": "markdown",
      "source": [
        "Model architecture"
      ],
      "metadata": {
        "id": "CANcF5higacJ"
      }
    },
    {
      "cell_type": "code",
      "source": [
        "class EncoderCnn(nn.Module):\n",
        "    def __init__(self,embed_size):\n",
        "        super(EncoderCnn, self).__init__()\n",
        "\n",
        "        #using pretrained model\n",
        "        pretrained = models.resnet50(weights=True)\n",
        "        #freezing training of weights\n",
        "        for param in pretrained.parameters():\n",
        "            param.requires_grad = False\n",
        "\n",
        "        #getting all layers in list module and removed the last layer(we will add our own)\n",
        "        modules = list(pretrained.children())[:-1]\n",
        "        #putting final layers in out variable\n",
        "        self.pretrained = nn.Sequential(*modules)\n",
        "\n",
        "        #changing last layer and allow it to train\n",
        "        self.fc = nn.Linear(pretrained.fc.in_features, embed_size)\n",
        "        self.batch= nn.BatchNorm1d(embed_size,momentum = 0.01)\n",
        "        self.fc.weight.data.normal_(0., 0.02)\n",
        "        self.fc.bias.data.fill_(0)\n",
        "\n",
        "    def forward(self,images):\n",
        "        features = self.pretrained(images)\n",
        "        #flattening to pass to fully connected layer\n",
        "        features = features.view(features.size(0),-1)\n",
        "        features = self.batch(self.fc(features))\n",
        "        return features  #[batch, embed_size]"
      ],
      "metadata": {
        "id": "ej6DIaaLgjna"
      },
      "execution_count": null,
      "outputs": []
    },
    {
      "cell_type": "code",
      "source": [
        "class DecoderRnn(nn.Module):\n",
        "    def __init__(self, embed_size,vocab_size, hidden_size, num_layers):\n",
        "        super(DecoderRnn, self).__init__()\n",
        "        self.embedding = nn.Embedding(vocab_size, embed_size) #[batch,seq] -> [batch,seq,embed]\n",
        "        self.lstm = nn.LSTM(embed_size, hidden_size, num_layers,batch_first=True) #[batch,seq,embed]->hiddens[batch,seq,hidden_size]\n",
        "        self.linear = nn.Linear(hidden_size, vocab_size)\n",
        "        self.dropout = nn.Dropout(0.5)\n",
        "\n",
        "    def forward(self, features, caption):\n",
        "        embeddings = self.dropout(self.embedding(caption)) #[batch,seq] -> [batch,seq,embed]\n",
        "        embeddings = torch.cat((features.unsqueeze(1),embeddings), dim=1)\n",
        "        hiddens, _ = self.lstm(embeddings)\n",
        "        outputs = self.linear(hiddens)\n",
        "        return outputs"
      ],
      "metadata": {
        "id": "ImYi72R_grw5"
      },
      "execution_count": null,
      "outputs": []
    },
    {
      "cell_type": "code",
      "source": [
        "class CNN2RNN(nn.Module):\n",
        "    def __init__(self, embed_size, vocab_size, hidden_size, num_layers):\n",
        "        super(CNN2RNN, self).__init__()\n",
        "        self.encoderCNN = EncoderCnn(embed_size)\n",
        "        self.decoderRNN = DecoderRnn(embed_size, vocab_size, hidden_size, num_layers)\n",
        "\n",
        "    def forward(self, images, caption):\n",
        "        x = self.encoderCNN(images)\n",
        "        x = self.decoderRNN(x, caption)\n",
        "        return x\n",
        "\n",
        "    def captionImage(self, image, vocabulary, maxlength=200):\n",
        "        result_caption = []\n",
        "\n",
        "        with torch.no_grad():\n",
        "            x = self.encoderCNN(image).unsqueeze(0)\n",
        "            print(x)\n",
        "            states = None\n",
        "\n",
        "            for _ in range(maxlength):\n",
        "                hiddens, states = self.decoderRNN.lstm(x, states)\n",
        "                output = self.decoderRNN.linear(hiddens.squeeze(0))\n",
        "                predicted = output.argmax(1)\n",
        "#                 print(predicted)\n",
        "                result_caption.append(predicted.item())\n",
        "#                 print(output.shape)\n",
        "                x = self.decoderRNN.embedding(predicted).unsqueeze(0)\n",
        "#                 print(\"x\",x)\n",
        "                if vocabulary.itos[predicted.item()] == \"[eos]\":\n",
        "                    break\n",
        "        return [vocabulary.itos[i] for i in result_caption]"
      ],
      "metadata": {
        "id": "tqt60Vh5gugx"
      },
      "execution_count": null,
      "outputs": []
    },
    {
      "cell_type": "markdown",
      "source": [
        "Hyperparm tuning using Hyperband"
      ],
      "metadata": {
        "id": "zDNdXiTOnKBC"
      }
    },
    {
      "cell_type": "code",
      "source": [
        "!pip install \"ray[tune]\""
      ],
      "metadata": {
        "id": "KHULz4d6rSrS"
      },
      "execution_count": null,
      "outputs": []
    },
    {
      "cell_type": "code",
      "source": [
        "import ray\n",
        "from ray import tune"
      ],
      "metadata": {
        "id": "flAaE2WHr1eK"
      },
      "execution_count": null,
      "outputs": []
    },
    {
      "cell_type": "code",
      "source": [
        "import os\n",
        "print(os.listdir(\"im2latex100k\"))"
      ],
      "metadata": {
        "colab": {
          "base_uri": "https://localhost:8080/"
        },
        "id": "TZHeqPLtscdL",
        "outputId": "30dc7d0b-8a31-45ba-ae7c-f09beb7b3845"
      },
      "execution_count": null,
      "outputs": [
        {
          "output_type": "stream",
          "name": "stdout",
          "text": [
            "['im2latex_test.csv', 'im2latex_train.csv', 'im2latex_formulas.norm.csv', 'formula_images_processed', 'im2latex_validate.csv']\n"
          ]
        }
      ]
    },
    {
      "cell_type": "code",
      "source": [
        "def train_latex_ocr(config):\n",
        "    device = torch.device(\"cuda\" if torch.cuda.is_available() else \"cpu\")\n",
        "    train_loader, train_dataset = get_loader(csv_file = train_csv, batch_size=config['batch_size'])\n",
        "    val_loader, val_dataset = get_loader(csv_file = validate_csv, batch_size=config['batch_size'])\n",
        "    model = CNN2RNN(embed_size=config['embed_size'], hidden_size=config['hidden_size'], vocab_size=len(train_dataset.vocab), num_layers=config['num_layers']).to(device)\n",
        "    criterion = nn.CrossEntropyLoss(ignore_index=train_dataset.vocab.stoi[\"[pad]\"])\n",
        "    optimizer = torch.optim.Adam(model.parameters(), lr=config['lr'])\n",
        "\n",
        "\n",
        "    # Training loop\n",
        "    while True:\n",
        "      for epoch in range(5):\n",
        "          model.train()\n",
        "          train_loss = 0.0\n",
        "          for images, labels in train_loader:\n",
        "              optimizer.zero_grad()\n",
        "              outputs = model(images)\n",
        "              loss = criterion(outputs, labels)\n",
        "              loss.backward()\n",
        "              optimizer.step()\n",
        "              train_loss += loss.item()\n",
        "\n",
        "          # Validation loop\n",
        "          model.eval()\n",
        "          val_accuracy = 0.0\n",
        "          with torch.no_grad():\n",
        "              for images, labels in val_loader:\n",
        "                  outputs = model(images)\n",
        "                  _, predicted = torch.max(outputs, 1)\n",
        "                  val_accuracy += (predicted == labels).sum().item() / len(labels)\n",
        "\n",
        "          # Report metrics to Ray Tune\n",
        "          tune.report(mean_accuracy=val_accuracy / len(val_loader))"
      ],
      "metadata": {
        "id": "hWeAv-45nyFm"
      },
      "execution_count": null,
      "outputs": []
    },
    {
      "cell_type": "code",
      "source": [
        "from ray.tune.integration.keras import TuneReportCallback\n",
        "from ray.tune.schedulers import HyperBandScheduler\n",
        "\n",
        "hyperband_scheduler = HyperBandScheduler(\n",
        "    time_attr='training_iteration',\n",
        "    metric='mean_accuracy',\n",
        "    mode='max',\n",
        "    max_t=5,\n",
        "    reduction_factor=3)"
      ],
      "metadata": {
        "id": "-iZZPKQsnLnm"
      },
      "execution_count": null,
      "outputs": []
    },
    {
      "cell_type": "code",
      "source": [
        "analysis = tune.run(\n",
        "    train_latex_ocr,\n",
        "    name=\"exp\",\n",
        "        resources_per_trial={\n",
        "            \"gpu\": 1,\n",
        "            \"cpu\": 2\n",
        "        },\n",
        "    config={\n",
        "      \"lr\": tune.uniform(0.001, 0.1),\n",
        "      \"batch_size\": tune.grid_search([32,64,128]),\n",
        "      \"embed_size\": tune.grid_search([128, 256, 300]),\n",
        "      \"hidden_size\": tune.grid_search([128, 256, 300]),\n",
        "      \"num_layers\": tune.grid_search([1, 2, 3])\n",
        "    },\n",
        "    scheduler=hyperband_scheduler)"
      ],
      "metadata": {
        "id": "BOjyJ5dmnqgd",
        "colab": {
          "base_uri": "https://localhost:8080/"
        },
        "outputId": "4c61c4c4-6fa9-4e55-8237-75e1e503f5f9"
      },
      "execution_count": null,
      "outputs": [
        {
          "output_type": "stream",
          "name": "stdout",
          "text": [
            "+--------------------------------------------------------+\n",
            "| Configuration for experiment     exp                   |\n",
            "+--------------------------------------------------------+\n",
            "| Search algorithm                 BasicVariantGenerator |\n",
            "| Scheduler                        HyperBandScheduler    |\n",
            "| Number of trials                 81                    |\n",
            "+--------------------------------------------------------+\n",
            "\n",
            "View detailed results here: /root/ray_results/exp\n",
            "To visualize your results with TensorBoard, run: `tensorboard --logdir /tmp/ray/session_2024-12-15_23-37-58_996824_457/artifacts/2024-12-16_00-50-14/exp/driver_artifacts`\n",
            "\n",
            "Trial status: 81 PENDING\n",
            "Current time: 2024-12-16 00:50:15. Total running time: 0s\n",
            "Logical resource usage: 0/2 CPUs, 0/1 GPUs (0.0/1.0 accelerator_type:T4)\n",
            "+-----------------------------------------------------------------------------------------------------------------+\n",
            "| Trial name                    status            lr     batch_size     embed_size     hidden_size     num_layers |\n",
            "+-----------------------------------------------------------------------------------------------------------------+\n",
            "| train_latex_ocr_b60ab_00000   PENDING    0.0897397             32            128             128              1 |\n",
            "| train_latex_ocr_b60ab_00001   PENDING    0.0365749             64            128             128              1 |\n",
            "| train_latex_ocr_b60ab_00002   PENDING    0.0343               128            128             128              1 |\n",
            "| train_latex_ocr_b60ab_00003   PENDING    0.0442895             32            256             128              1 |\n",
            "| train_latex_ocr_b60ab_00004   PENDING    0.0951275             64            256             128              1 |\n",
            "+-----------------------------------------------------------------------------------------------------------------+\n",
            "76 more PENDING\n",
            "Trial status: 81 PENDING\n",
            "Current time: 2024-12-16 00:50:45. Total running time: 30s\n",
            "Logical resource usage: 0/2 CPUs, 0/1 GPUs (0.0/1.0 accelerator_type:T4)\n",
            "+-----------------------------------------------------------------------------------------------------------------+\n",
            "| Trial name                    status            lr     batch_size     embed_size     hidden_size     num_layers |\n",
            "+-----------------------------------------------------------------------------------------------------------------+\n",
            "| train_latex_ocr_b60ab_00000   PENDING    0.0897397             32            128             128              1 |\n",
            "| train_latex_ocr_b60ab_00001   PENDING    0.0365749             64            128             128              1 |\n",
            "| train_latex_ocr_b60ab_00002   PENDING    0.0343               128            128             128              1 |\n",
            "| train_latex_ocr_b60ab_00003   PENDING    0.0442895             32            256             128              1 |\n",
            "| train_latex_ocr_b60ab_00004   PENDING    0.0951275             64            256             128              1 |\n",
            "+-----------------------------------------------------------------------------------------------------------------+\n",
            "76 more PENDING\n",
            "Trial status: 81 PENDING\n",
            "Current time: 2024-12-16 00:51:15. Total running time: 1min 0s\n",
            "Logical resource usage: 0/2 CPUs, 0/1 GPUs (0.0/1.0 accelerator_type:T4)\n",
            "+-----------------------------------------------------------------------------------------------------------------+\n",
            "| Trial name                    status            lr     batch_size     embed_size     hidden_size     num_layers |\n",
            "+-----------------------------------------------------------------------------------------------------------------+\n",
            "| train_latex_ocr_b60ab_00000   PENDING    0.0897397             32            128             128              1 |\n",
            "| train_latex_ocr_b60ab_00001   PENDING    0.0365749             64            128             128              1 |\n",
            "| train_latex_ocr_b60ab_00002   PENDING    0.0343               128            128             128              1 |\n",
            "| train_latex_ocr_b60ab_00003   PENDING    0.0442895             32            256             128              1 |\n",
            "| train_latex_ocr_b60ab_00004   PENDING    0.0951275             64            256             128              1 |\n",
            "+-----------------------------------------------------------------------------------------------------------------+\n",
            "76 more PENDING\n",
            "Trial status: 81 PENDING\n",
            "Current time: 2024-12-16 00:51:45. Total running time: 1min 30s\n",
            "Logical resource usage: 0/2 CPUs, 0/1 GPUs (0.0/1.0 accelerator_type:T4)\n",
            "+-----------------------------------------------------------------------------------------------------------------+\n",
            "| Trial name                    status            lr     batch_size     embed_size     hidden_size     num_layers |\n",
            "+-----------------------------------------------------------------------------------------------------------------+\n",
            "| train_latex_ocr_b60ab_00000   PENDING    0.0897397             32            128             128              1 |\n",
            "| train_latex_ocr_b60ab_00001   PENDING    0.0365749             64            128             128              1 |\n",
            "| train_latex_ocr_b60ab_00002   PENDING    0.0343               128            128             128              1 |\n",
            "| train_latex_ocr_b60ab_00003   PENDING    0.0442895             32            256             128              1 |\n",
            "| train_latex_ocr_b60ab_00004   PENDING    0.0951275             64            256             128              1 |\n",
            "+-----------------------------------------------------------------------------------------------------------------+\n",
            "76 more PENDING\n",
            "Trial status: 81 PENDING\n",
            "Current time: 2024-12-16 00:52:15. Total running time: 2min 0s\n",
            "Logical resource usage: 0/2 CPUs, 0/1 GPUs (0.0/1.0 accelerator_type:T4)\n",
            "+-----------------------------------------------------------------------------------------------------------------+\n",
            "| Trial name                    status            lr     batch_size     embed_size     hidden_size     num_layers |\n",
            "+-----------------------------------------------------------------------------------------------------------------+\n",
            "| train_latex_ocr_b60ab_00000   PENDING    0.0897397             32            128             128              1 |\n",
            "| train_latex_ocr_b60ab_00001   PENDING    0.0365749             64            128             128              1 |\n",
            "| train_latex_ocr_b60ab_00002   PENDING    0.0343               128            128             128              1 |\n",
            "| train_latex_ocr_b60ab_00003   PENDING    0.0442895             32            256             128              1 |\n",
            "| train_latex_ocr_b60ab_00004   PENDING    0.0951275             64            256             128              1 |\n",
            "+-----------------------------------------------------------------------------------------------------------------+\n",
            "76 more PENDING\n",
            "Trial status: 81 PENDING\n",
            "Current time: 2024-12-16 00:52:45. Total running time: 2min 30s\n",
            "Logical resource usage: 0/2 CPUs, 0/1 GPUs (0.0/1.0 accelerator_type:T4)\n",
            "+-----------------------------------------------------------------------------------------------------------------+\n",
            "| Trial name                    status            lr     batch_size     embed_size     hidden_size     num_layers |\n",
            "+-----------------------------------------------------------------------------------------------------------------+\n",
            "| train_latex_ocr_b60ab_00000   PENDING    0.0897397             32            128             128              1 |\n",
            "| train_latex_ocr_b60ab_00001   PENDING    0.0365749             64            128             128              1 |\n",
            "| train_latex_ocr_b60ab_00002   PENDING    0.0343               128            128             128              1 |\n",
            "| train_latex_ocr_b60ab_00003   PENDING    0.0442895             32            256             128              1 |\n",
            "| train_latex_ocr_b60ab_00004   PENDING    0.0951275             64            256             128              1 |\n",
            "+-----------------------------------------------------------------------------------------------------------------+\n",
            "76 more PENDING\n",
            "Trial status: 81 PENDING\n",
            "Current time: 2024-12-16 00:53:15. Total running time: 3min 0s\n",
            "Logical resource usage: 0/2 CPUs, 0/1 GPUs (0.0/1.0 accelerator_type:T4)\n",
            "+-----------------------------------------------------------------------------------------------------------------+\n",
            "| Trial name                    status            lr     batch_size     embed_size     hidden_size     num_layers |\n",
            "+-----------------------------------------------------------------------------------------------------------------+\n",
            "| train_latex_ocr_b60ab_00000   PENDING    0.0897397             32            128             128              1 |\n",
            "| train_latex_ocr_b60ab_00001   PENDING    0.0365749             64            128             128              1 |\n",
            "| train_latex_ocr_b60ab_00002   PENDING    0.0343               128            128             128              1 |\n",
            "| train_latex_ocr_b60ab_00003   PENDING    0.0442895             32            256             128              1 |\n",
            "| train_latex_ocr_b60ab_00004   PENDING    0.0951275             64            256             128              1 |\n",
            "+-----------------------------------------------------------------------------------------------------------------+\n",
            "76 more PENDING\n",
            "Trial status: 81 PENDING\n",
            "Current time: 2024-12-16 00:53:45. Total running time: 3min 30s\n",
            "Logical resource usage: 0/2 CPUs, 0/1 GPUs (0.0/1.0 accelerator_type:T4)\n",
            "+-----------------------------------------------------------------------------------------------------------------+\n",
            "| Trial name                    status            lr     batch_size     embed_size     hidden_size     num_layers |\n",
            "+-----------------------------------------------------------------------------------------------------------------+\n",
            "| train_latex_ocr_b60ab_00000   PENDING    0.0897397             32            128             128              1 |\n",
            "| train_latex_ocr_b60ab_00001   PENDING    0.0365749             64            128             128              1 |\n",
            "| train_latex_ocr_b60ab_00002   PENDING    0.0343               128            128             128              1 |\n",
            "| train_latex_ocr_b60ab_00003   PENDING    0.0442895             32            256             128              1 |\n",
            "| train_latex_ocr_b60ab_00004   PENDING    0.0951275             64            256             128              1 |\n",
            "+-----------------------------------------------------------------------------------------------------------------+\n",
            "76 more PENDING\n"
          ]
        }
      ]
    },
    {
      "cell_type": "markdown",
      "source": [
        "Training"
      ],
      "metadata": {
        "id": "89rb35t6hdax"
      }
    },
    {
      "cell_type": "code",
      "source": [
        "save_model = True\n",
        "step = 0\n",
        "embed_size = 300\n",
        "hidden_size = 300\n",
        "num_layers = 2\n",
        "num_epochs = 5\n",
        "learning_rate = 1e-3\n",
        "vocab_size = len(train_dataset.vocab)\n",
        "device = torch.device('cuda' if torch.cuda.is_available() else 'cpu')"
      ],
      "metadata": {
        "id": "Y8PHk_75g7bf"
      },
      "execution_count": null,
      "outputs": []
    },
    {
      "cell_type": "code",
      "source": [
        "model = CNN2RNN(embed_size=embed_size, hidden_size=hidden_size, vocab_size=vocab_size, num_layers=num_layers).to(device=device)"
      ],
      "metadata": {
        "colab": {
          "base_uri": "https://localhost:8080/"
        },
        "id": "t2cokvbLhBlD",
        "outputId": "fdc94cc1-3194-4741-d4b4-a3db60db36f4"
      },
      "execution_count": null,
      "outputs": [
        {
          "output_type": "stream",
          "name": "stderr",
          "text": [
            "/usr/local/lib/python3.10/dist-packages/torchvision/models/_utils.py:223: UserWarning: Arguments other than a weight enum or `None` for 'weights' are deprecated since 0.13 and may be removed in the future. The current behavior is equivalent to passing `weights=ResNet50_Weights.IMAGENET1K_V1`. You can also use `weights=ResNet50_Weights.DEFAULT` to get the most up-to-date weights.\n",
            "  warnings.warn(msg)\n",
            "Downloading: \"https://download.pytorch.org/models/resnet50-0676ba61.pth\" to /root/.cache/torch/hub/checkpoints/resnet50-0676ba61.pth\n",
            "100%|██████████| 97.8M/97.8M [00:00<00:00, 143MB/s]\n"
          ]
        }
      ]
    },
    {
      "cell_type": "code",
      "source": [
        "loss_criterion = nn.CrossEntropyLoss(ignore_index=train_dataset.vocab.stoi[\"[pad]\"])\n",
        "optimizer = optim.Adam(model.parameters(), lr = learning_rate)"
      ],
      "metadata": {
        "id": "y0Rx8QGShYXF"
      },
      "execution_count": null,
      "outputs": []
    },
    {
      "cell_type": "code",
      "source": [
        "model.train()\n",
        "\n",
        "for epoch in range(num_epochs):\n",
        "    for imgs, captions in tqdm(train_loader):\n",
        "        imgs = imgs.to(device)\n",
        "        captions = captions.to(device)\n",
        "\n",
        "        score = model(imgs, captions[:,:-1])\n",
        "        optimizer.zero_grad()\n",
        "        loss = loss_criterion(score.reshape(-1, score.shape[2]), captions.reshape(-1))\n",
        "\n",
        "        step += 1\n",
        "\n",
        "        loss.backward()\n",
        "        optimizer.step()\n",
        "    print(f\"Loss for epoch {epoch}: {loss}\")\n",
        "\n",
        "    if save_model:\n",
        "        save_path = f\"/content/model_epoch_{epoch+1}.pth\"\n",
        "        torch.save(model.state_dict(), save_path)\n",
        "        print(f\"Model saved to {save_path}\")"
      ],
      "metadata": {
        "colab": {
          "base_uri": "https://localhost:8080/"
        },
        "id": "IBq9eV1XytMU",
        "outputId": "57d70cb9-dd92-49cf-8eea-a5a006512e9f"
      },
      "execution_count": null,
      "outputs": [
        {
          "output_type": "stream",
          "name": "stderr",
          "text": [
            "100%|██████████| 2353/2353 [08:27<00:00,  4.63it/s]\n"
          ]
        },
        {
          "output_type": "stream",
          "name": "stdout",
          "text": [
            "Loss for epoch 0: 1.7325776815414429\n",
            "Model saved to /content/model_epoch_1.pth\n"
          ]
        },
        {
          "output_type": "stream",
          "name": "stderr",
          "text": [
            "100%|██████████| 2353/2353 [08:24<00:00,  4.67it/s]\n"
          ]
        },
        {
          "output_type": "stream",
          "name": "stdout",
          "text": [
            "Loss for epoch 1: 1.748704433441162\n",
            "Model saved to /content/model_epoch_2.pth\n"
          ]
        },
        {
          "output_type": "stream",
          "name": "stderr",
          "text": [
            "100%|██████████| 2353/2353 [08:24<00:00,  4.67it/s]\n"
          ]
        },
        {
          "output_type": "stream",
          "name": "stdout",
          "text": [
            "Loss for epoch 2: 1.7802798748016357\n",
            "Model saved to /content/model_epoch_3.pth\n"
          ]
        },
        {
          "output_type": "stream",
          "name": "stderr",
          "text": [
            "100%|██████████| 2353/2353 [08:21<00:00,  4.69it/s]\n"
          ]
        },
        {
          "output_type": "stream",
          "name": "stdout",
          "text": [
            "Loss for epoch 3: 1.681897521018982\n",
            "Model saved to /content/model_epoch_4.pth\n"
          ]
        },
        {
          "output_type": "stream",
          "name": "stderr",
          "text": [
            "100%|██████████| 2353/2353 [08:20<00:00,  4.70it/s]\n"
          ]
        },
        {
          "output_type": "stream",
          "name": "stdout",
          "text": [
            "Loss for epoch 4: 1.5569219589233398\n",
            "Model saved to /content/model_epoch_5.pth\n"
          ]
        }
      ]
    },
    {
      "cell_type": "markdown",
      "source": [
        "Testing"
      ],
      "metadata": {
        "id": "hQFvAZpqinIg"
      }
    },
    {
      "cell_type": "code",
      "source": [
        "# Set device\n",
        "device = torch.device('cuda' if torch.cuda.is_available() else 'cpu')\n",
        "\n",
        "# Hyperparameters\n",
        "embed_size = 300\n",
        "hidden_size = 300\n",
        "num_layers = 2"
      ],
      "metadata": {
        "id": "K7h-uMArmDDL"
      },
      "execution_count": null,
      "outputs": []
    },
    {
      "cell_type": "code",
      "source": [
        "# Use the vocabulary from the train dataset\n",
        "test_dataset.vocab.itos = train_dataset.vocab.itos\n",
        "test_dataset.vocab.stoi = train_dataset.vocab.stoi\n",
        "\n",
        "vocab_size = len(test_dataset.vocab)\n",
        "print(\"Vocab size:\", vocab_size)"
      ],
      "metadata": {
        "colab": {
          "base_uri": "https://localhost:8080/"
        },
        "id": "7XUVsY1rm9p7",
        "outputId": "1c68dcf8-3968-4393-c0a7-67952ae40cfd"
      },
      "execution_count": null,
      "outputs": [
        {
          "output_type": "stream",
          "name": "stdout",
          "text": [
            "Vocab size: 491\n"
          ]
        }
      ]
    },
    {
      "cell_type": "code",
      "source": [
        "# Initialize model (same architecture as training)\n",
        "model = CNN2RNN(embed_size=embed_size, vocab_size=vocab_size, hidden_size=hidden_size, num_layers=num_layers).to(device)"
      ],
      "metadata": {
        "colab": {
          "base_uri": "https://localhost:8080/"
        },
        "id": "aUAcmdahmJGO",
        "outputId": "42529fe1-5c12-42f9-afa3-fc846bf83981"
      },
      "execution_count": null,
      "outputs": [
        {
          "output_type": "stream",
          "name": "stderr",
          "text": [
            "/usr/local/lib/python3.10/dist-packages/torchvision/models/_utils.py:223: UserWarning: Arguments other than a weight enum or `None` for 'weights' are deprecated since 0.13 and may be removed in the future. The current behavior is equivalent to passing `weights=ResNet50_Weights.IMAGENET1K_V1`. You can also use `weights=ResNet50_Weights.DEFAULT` to get the most up-to-date weights.\n",
            "  warnings.warn(msg)\n"
          ]
        }
      ]
    },
    {
      "cell_type": "code",
      "source": [
        "# Load the saved model weights\n",
        "model.load_state_dict(torch.load(\"/content/model_epoch_5.pth\", map_location=device))\n",
        "model.eval()\n",
        "\n",
        "# Define the loss function\n",
        "loss_criterion = nn.CrossEntropyLoss(ignore_index=test_dataset.vocab.stoi[\"[pad]\"])"
      ],
      "metadata": {
        "colab": {
          "base_uri": "https://localhost:8080/"
        },
        "id": "Takm9tqymO2O",
        "outputId": "e9ff9c8e-1420-4e92-b110-0c37163a4e2b"
      },
      "execution_count": null,
      "outputs": [
        {
          "output_type": "stream",
          "name": "stderr",
          "text": [
            "<ipython-input-34-cc896021b37e>:2: FutureWarning: You are using `torch.load` with `weights_only=False` (the current default value), which uses the default pickle module implicitly. It is possible to construct malicious pickle data which will execute arbitrary code during unpickling (See https://github.com/pytorch/pytorch/blob/main/SECURITY.md#untrusted-models for more details). In a future release, the default value for `weights_only` will be flipped to `True`. This limits the functions that could be executed during unpickling. Arbitrary objects will no longer be allowed to be loaded via this mode unless they are explicitly allowlisted by the user via `torch.serialization.add_safe_globals`. We recommend you start setting `weights_only=True` for any use case where you don't have full control of the loaded file. Please open an issue on GitHub for any issues related to this experimental feature.\n",
            "  model.load_state_dict(torch.load(\"/content/model_epoch_5.pth\", map_location=device))\n"
          ]
        }
      ]
    },
    {
      "cell_type": "code",
      "source": [
        "# Testing loop\n",
        "test_loss = 0.0\n",
        "correct_tokens = 0\n",
        "total_tokens = 0\n",
        "\n",
        "with torch.no_grad():\n",
        "    for imgs, captions in tqdm(test_loader, desc=\"Testing\", leave=False):\n",
        "        imgs = imgs.to(device)\n",
        "        captions = captions.to(device)\n",
        "\n",
        "        # forward pass\n",
        "        outputs = model(imgs, captions[:, :-1])  # outputs shape: [batch_size, seq_length, vocab_size]\n",
        "\n",
        "        # Compute loss\n",
        "        # Flatten the outputs and targets for cross entropy\n",
        "        loss = loss_criterion(outputs.reshape(-1, outputs.shape[2]), captions.reshape(-1))\n",
        "        test_loss += loss.item()\n",
        "\n",
        "        # Compute accurac\n",
        "        predicted_tokens = outputs.argmax(dim=2)  # [batch_size, seq_length]\n",
        "        mask = (captions != test_dataset.vocab.stoi[\"[pad]\"])\n",
        "        correct_tokens += ((predicted_tokens == captions) & mask).sum().item()\n",
        "        total_tokens += mask.sum().item()\n",
        "\n",
        "# Compute final metrics\n",
        "avg_test_loss = test_loss / len(test_loader)\n",
        "token_accuracy = 100.0 * correct_tokens / total_tokens if total_tokens > 0 else 0.0\n",
        "\n",
        "print(f\"Test Loss: {avg_test_loss:.4f}\")\n",
        "print(f\"Token-Level Accuracy (ignoring pads): {token_accuracy:.2f}%\")"
      ],
      "metadata": {
        "colab": {
          "base_uri": "https://localhost:8080/"
        },
        "id": "Ic-8IISInLHB",
        "outputId": "62345151-75da-4175-8570-b1138a8a077a"
      },
      "execution_count": null,
      "outputs": [
        {
          "output_type": "stream",
          "name": "stderr",
          "text": [
            "                                                          "
          ]
        },
        {
          "output_type": "stream",
          "name": "stdout",
          "text": [
            "Test Loss: 1.5732\n",
            "Token-Level Accuracy (ignoring pads): 61.84%\n"
          ]
        },
        {
          "output_type": "stream",
          "name": "stderr",
          "text": [
            "\r"
          ]
        }
      ]
    },
    {
      "cell_type": "markdown",
      "source": [
        "Testing with our own handwritten math formula images"
      ],
      "metadata": {
        "id": "FwceWEpkqCjQ"
      }
    },
    {
      "cell_type": "code",
      "source": [
        "from google.colab import drive\n",
        "drive.mount('/content/drive')"
      ],
      "metadata": {
        "colab": {
          "base_uri": "https://localhost:8080/"
        },
        "id": "k5zh7vuKqFrE",
        "outputId": "55d1264e-7cf0-4db8-996a-98ea2342316b"
      },
      "execution_count": null,
      "outputs": [
        {
          "output_type": "stream",
          "name": "stdout",
          "text": [
            "Mounted at /content/drive\n"
          ]
        }
      ]
    },
    {
      "cell_type": "code",
      "source": [
        "# Path\n",
        "handwritten_images_folder = \"/content/drive/MyDrive/pngs/\""
      ],
      "metadata": {
        "id": "LjV1uHjDrtgY"
      },
      "execution_count": null,
      "outputs": []
    },
    {
      "cell_type": "code",
      "source": [
        "# same parameters as in training\n",
        "embed_size = 300\n",
        "hidden_size = 300\n",
        "num_layers = 2\n",
        "vocab_size = len(train_dataset.vocab)\n",
        "\n",
        "# model\n",
        "model = CNN2RNN(embed_size=embed_size, vocab_size=vocab_size, hidden_size=hidden_size, num_layers=num_layers).to(device)\n",
        "model.load_state_dict(torch.load(\"/content/model_epoch_5.pth\", map_location=device))\n",
        "model.eval()"
      ],
      "metadata": {
        "id": "UYxJkGhCsLou"
      },
      "execution_count": null,
      "outputs": []
    },
    {
      "cell_type": "code",
      "source": [
        "# vocabulary from the training dataset\n",
        "vocab = train_dataset.vocab"
      ],
      "metadata": {
        "id": "4xycZOmVsSFB"
      },
      "execution_count": null,
      "outputs": []
    },
    {
      "cell_type": "code",
      "source": [
        "# Function to run inference on a single image\n",
        "def predict_formula(image_path):\n",
        "    image = Image.open(image_path).convert(\"RGB\")\n",
        "\n",
        "    image = transform(image).unsqueeze(0)  # add batch dimension [1,3,H,W]\n",
        "    image = image.to(device)\n",
        "\n",
        "    # generate caption (prediction)\n",
        "    predicted_tokens = model.captionImage(image, vocab)\n",
        "    # predicted_tokens is a list of tokens, e.g. [\"[sos]\", \"x\", \"=\", ... \"[eos]\"]\n",
        "    # Remove [sos] and [eos]\n",
        "    if predicted_tokens and predicted_tokens[0] == \"[sos]\":\n",
        "        predicted_tokens = predicted_tokens[1:]\n",
        "    if predicted_tokens and predicted_tokens[-1] == \"[eos]\":\n",
        "        predicted_tokens = predicted_tokens[:-1]\n",
        "\n",
        "    # Join tokens to form the predicted LaTeX formula\n",
        "    predicted_formula = \"\".join(predicted_tokens)\n",
        "    return predicted_formula"
      ],
      "metadata": {
        "id": "OBW9jlZhsVW0"
      },
      "execution_count": null,
      "outputs": []
    },
    {
      "cell_type": "code",
      "source": [
        "# Limit to first 10 images\n",
        "max_examples = 10\n",
        "count = 0\n",
        "\n",
        "for img_name in tqdm(os.listdir(handwritten_images_folder), desc=\"Predicting\"):\n",
        "    if img_name.lower().endswith(\".png\"):\n",
        "        img_path = os.path.join(handwritten_images_folder, img_name)\n",
        "\n",
        "        # Predict formula\n",
        "        formula = predict_formula(img_path)\n",
        "\n",
        "        # Load image for display\n",
        "        image = Image.open(img_path).convert(\"RGB\")\n",
        "\n",
        "        # Display image and prediction\n",
        "        plt.figure()\n",
        "        plt.imshow(image)\n",
        "        plt.axis('off')\n",
        "        plt.title(f\"Predicted: {formula}\")\n",
        "        plt.show()\n",
        "\n",
        "        count += 1\n",
        "        if count >= max_examples:\n",
        "            break"
      ],
      "metadata": {
        "colab": {
          "base_uri": "https://localhost:8080/",
          "height": 1000
        },
        "id": "aV8kB-pssYu6",
        "outputId": "c9bedcdc-7740-42dd-d794-9dc740d7b59a"
      },
      "execution_count": null,
      "outputs": [
        {
          "output_type": "stream",
          "name": "stderr",
          "text": [
            "\rPredicting:   0%|          | 0/185 [00:00<?, ?it/s]"
          ]
        },
        {
          "output_type": "stream",
          "name": "stdout",
          "text": [
            "tensor([[[ 9.5171e-03,  9.7373e-01,  2.0039e-02,  2.5060e-01,  1.7637e+00,\n",
            "           1.6847e-01,  1.8386e-01,  1.4023e+00, -4.2089e-01,  8.3299e-01,\n",
            "           1.0023e+00, -2.4484e-01, -5.9210e-01,  1.5705e+00, -7.3747e-01,\n",
            "           8.0421e-01, -1.0093e+00, -2.9242e-01, -9.6543e-01,  8.5696e-01,\n",
            "          -3.9725e-01,  1.1217e+00,  6.9124e-01, -4.4260e-01,  5.5675e-01,\n",
            "           9.3707e-01, -3.4202e-01, -2.1667e-02,  1.0352e+00,  8.4075e-02,\n",
            "          -2.0975e+00,  9.9604e-01, -2.3662e+00, -2.2784e-01, -4.6760e-01,\n",
            "          -7.2368e-01, -1.5652e-01,  2.2853e-01, -2.4284e-01,  3.0950e-01,\n",
            "           9.7358e-01, -3.7442e-01, -1.4103e+00, -1.4159e+00, -2.1276e+00,\n",
            "          -7.5269e-01, -3.6615e-01, -7.9202e-01, -1.1325e-01, -5.1806e-01,\n",
            "           1.1628e-01,  1.0415e+00,  6.4242e-01,  4.8829e-01,  1.1985e+00,\n",
            "           5.3745e-02,  1.5009e-01, -1.6201e+00,  1.4834e+00,  4.0276e-01,\n",
            "          -6.0661e-01, -1.0266e-01, -3.9684e-01,  1.3960e-01,  1.9424e-02,\n",
            "           3.2739e-01,  1.8638e+00,  8.0286e-02, -1.9122e+00,  1.7538e+00,\n",
            "          -2.7499e-01, -2.6639e-01, -6.5116e-01,  5.3448e-01,  1.3755e-01,\n",
            "          -1.7939e+00,  9.3143e-01, -1.1726e+00,  9.5388e-03, -1.2956e+00,\n",
            "          -9.1574e-01,  1.5119e+00,  1.3427e+00, -7.0534e-01, -7.9731e-01,\n",
            "           4.0581e-01,  2.2877e-01,  9.6749e-01, -7.4512e-01, -6.5826e-01,\n",
            "          -6.3952e-01,  7.6627e-01, -9.9291e-01,  4.4318e-01,  6.1155e-01,\n",
            "           2.2704e-01, -1.6215e-01, -8.4197e-01,  1.1998e-01, -8.2270e-01,\n",
            "           2.3131e-02,  1.3975e+00, -7.3335e-02,  7.7294e-01, -1.3254e+00,\n",
            "          -1.1485e+00,  8.3879e-01,  1.2170e+00,  5.4101e-01, -4.6515e-01,\n",
            "          -1.3122e+00,  1.2802e+00,  6.6930e-01,  5.9819e-01, -4.8588e-01,\n",
            "          -6.9215e-01, -5.2443e-01, -1.1781e-01, -8.2873e-01,  1.0664e+00,\n",
            "           8.0694e-01,  1.4426e-01, -2.6995e-01,  1.1952e+00,  7.2252e-01,\n",
            "          -3.8287e-01,  3.7348e-01, -1.0564e+00, -1.7971e-01,  1.6707e-01,\n",
            "          -7.5404e-01,  1.3002e+00, -6.2631e-01, -2.4348e-01,  1.0597e+00,\n",
            "          -3.2494e-01,  3.8270e-01, -4.2952e-02, -8.7543e-01,  1.9269e+00,\n",
            "          -1.3282e-01,  2.6923e-01, -2.6001e-01, -1.2084e+00, -4.0075e-01,\n",
            "           5.6231e-01,  9.8734e-01, -5.8750e-01, -4.5365e-01, -6.2052e-01,\n",
            "           1.3297e+00,  3.3676e-01,  3.1636e-01,  5.7785e-02, -1.4509e+00,\n",
            "          -2.9643e-01,  8.1863e-01, -9.8747e-01,  1.0575e+00,  6.0017e-01,\n",
            "           2.7676e-01, -7.3557e-01,  4.1914e-01,  3.4116e-01,  1.2939e+00,\n",
            "           2.1384e+00,  1.1545e-01, -1.6100e+00, -5.1914e-01,  3.4713e-01,\n",
            "           1.3437e-01,  1.7651e+00, -1.7897e-01, -1.3888e+00, -1.2846e+00,\n",
            "           3.2972e-01,  3.1677e-01, -9.6644e-02,  1.3477e+00,  1.8020e+00,\n",
            "           4.8016e-02,  1.3098e+00, -2.8090e-01,  8.1086e-01,  1.2929e+00,\n",
            "           2.6910e-01,  1.9995e-01, -6.1986e-01,  9.7638e-02, -4.9772e-01,\n",
            "          -2.1131e-01, -6.4998e-01, -5.4925e-01, -7.8003e-01, -9.4870e-01,\n",
            "          -5.0603e-01, -1.1297e-01,  3.7592e-01, -6.7981e-01,  7.1519e-01,\n",
            "           7.5809e-01, -8.9749e-01, -5.8098e-01,  8.6506e-01,  7.0228e-01,\n",
            "           1.0912e+00, -5.1565e-01, -8.0963e-01, -2.6120e+00, -4.5022e-01,\n",
            "          -1.5722e+00,  1.3842e-01,  8.0045e-02, -8.1230e-01,  1.1364e-01,\n",
            "          -6.3104e-02, -4.5828e-03, -3.7807e-01,  4.0473e-01, -3.6432e-01,\n",
            "          -2.4878e-02, -1.6447e+00, -4.2025e-01,  6.0046e-01, -3.2312e-01,\n",
            "           2.1624e-01,  2.2861e-01,  2.4677e-01,  1.5061e+00,  4.3466e-01,\n",
            "          -1.0139e+00,  1.2187e+00,  1.7436e+00,  1.6799e+00, -2.4320e-01,\n",
            "           1.4837e+00, -1.0542e+00,  1.1290e+00,  8.7299e-01,  1.3443e+00,\n",
            "          -6.9402e-01, -1.6102e+00, -6.6579e-01, -5.4752e-01, -2.4023e-01,\n",
            "          -4.3422e-01, -4.0829e-01, -4.6260e-01,  1.5392e-01, -1.2921e-01,\n",
            "           3.7740e-01,  3.2798e+00, -1.1004e+00, -6.4190e-01, -2.9805e-01,\n",
            "          -6.6546e-01, -1.7980e+00,  6.8406e-01, -9.0094e-02, -3.2914e-01,\n",
            "          -1.1481e+00, -4.1513e-01, -5.4003e-01,  3.0508e-01,  1.7369e-01,\n",
            "          -3.8295e-01,  1.0794e-01, -9.8297e-01, -5.7110e-01, -3.2369e-02,\n",
            "          -5.1048e-01,  4.0820e-01, -3.1517e-03,  7.0201e-01,  2.5334e-01,\n",
            "          -1.0993e+00,  1.6266e-01, -2.5207e-01,  1.3629e-01,  1.3658e-01,\n",
            "          -1.3595e+00,  8.9454e-01,  6.4925e-01, -1.9637e+00, -9.3373e-01,\n",
            "          -1.5376e-01,  1.9697e+00, -7.3614e-02, -5.9780e-01, -2.0762e-01,\n",
            "          -1.2972e+00, -4.7194e-01,  9.8873e-02,  7.4922e-01,  4.3653e-01,\n",
            "           1.6367e+00, -6.7488e-01, -1.1166e+00,  1.9260e-01, -1.1524e-01]]],\n",
            "       device='cuda:0')\n"
          ]
        },
        {
          "output_type": "display_data",
          "data": {
            "text/plain": [
              "<Figure size 640x480 with 1 Axes>"
            ],
            "image/png": "[encoded data removed]"
          },
          "metadata": {}
        },
        {
          "output_type": "stream",
          "name": "stderr",
          "text": [
            "\rPredicting:   1%|          | 1/185 [00:00<01:17,  2.37it/s]"
          ]
        },
        {
          "output_type": "stream",
          "name": "stdout",
          "text": [
            "tensor([[[-9.3196e-02,  7.9465e-01, -4.9993e-01,  6.1034e-01,  1.3069e+00,\n",
            "           2.8075e-01, -2.1027e-02,  1.7928e+00, -1.8480e-01,  6.5685e-01,\n",
            "           1.1010e+00, -3.8246e-01, -1.0508e+00,  1.3612e+00, -4.1855e-01,\n",
            "          -3.1222e-01, -7.3924e-01, -1.0286e-01, -1.2222e+00,  9.3117e-01,\n",
            "          -7.3780e-01,  1.5021e+00,  2.7453e-01, -4.6062e-01,  5.4843e-01,\n",
            "           7.4187e-01, -3.0486e-01, -1.0093e-01,  9.7628e-01, -1.1185e-02,\n",
            "          -8.0352e-01,  1.2474e+00, -1.4577e+00, -1.4354e+00,  1.0495e-01,\n",
            "          -2.0994e-01, -3.2461e-01, -3.6198e-01,  2.1074e-01,  2.0154e-01,\n",
            "           1.5499e+00,  1.0467e-01, -3.4879e-01, -7.1997e-01, -1.4789e+00,\n",
            "          -3.4758e-01, -1.0260e+00, -5.7647e-01, -3.4495e-01, -4.8892e-01,\n",
            "          -1.6656e-01,  3.2643e-02,  1.1918e+00,  3.5767e-01,  3.0015e-01,\n",
            "           1.1128e+00, -2.4371e-01, -1.3763e+00,  1.1104e+00,  5.0328e-02,\n",
            "          -1.8501e-01, -4.0486e-01, -4.6660e-01,  7.3127e-01, -6.9921e-02,\n",
            "           2.8786e-01,  2.0652e+00, -2.7389e-01, -1.5725e+00,  1.5435e+00,\n",
            "           1.0159e+00,  2.8162e-02, -5.1913e-01,  5.8649e-01,  6.9842e-02,\n",
            "          -3.3271e+00,  6.4610e-01, -5.0734e-01, -1.3477e+00, -5.8882e-01,\n",
            "          -9.6700e-01,  1.2311e+00,  7.1058e-01, -8.1404e-01, -1.1641e+00,\n",
            "           4.4677e-01, -6.5336e-01,  5.6218e-01, -8.2329e-01, -1.3598e+00,\n",
            "          -4.8197e-01,  5.9710e-01, -8.8861e-01,  4.6273e-01,  7.2946e-01,\n",
            "           6.6875e-01, -1.0568e+00, -1.1220e+00, -1.3433e+00, -5.2299e-01,\n",
            "           5.8149e-01,  2.6437e-01,  8.9755e-01,  4.1336e-01, -1.7746e+00,\n",
            "          -8.3417e-01,  5.0008e-01,  5.1045e-01,  3.1426e-01, -6.0820e-01,\n",
            "          -1.0856e+00,  9.5487e-01,  1.0036e+00,  9.5944e-01, -4.0555e-03,\n",
            "          -4.1706e-01, -1.2636e-02, -8.1177e-01, -5.7155e-01, -6.7888e-02,\n",
            "           8.6592e-01, -3.3593e-01,  8.4520e-02,  4.3431e-01,  2.4343e-01,\n",
            "          -1.8951e-02,  1.2002e-01, -8.5479e-01, -2.0516e-01, -4.0294e-01,\n",
            "           6.2459e-02,  1.3311e+00, -5.8990e-01, -2.6172e-01,  7.1046e-01,\n",
            "          -3.7389e-01,  8.5611e-01,  3.3694e-01, -6.2192e-01,  7.9562e-01,\n",
            "          -6.0476e-01, -6.0781e-01, -3.0532e-01, -3.8950e-01, -1.2291e+00,\n",
            "           8.3461e-01,  3.2667e-01, -2.5991e-01, -3.4810e-01, -4.4925e-01,\n",
            "           1.0115e+00,  1.6109e+00,  4.6551e-01, -3.0306e-01, -2.2208e+00,\n",
            "          -1.4091e-01,  6.7017e-01, -1.1219e+00,  7.1574e-01,  6.3723e-01,\n",
            "          -3.6079e-01, -4.3331e-01,  4.9307e-01,  5.6765e-01,  2.0173e-01,\n",
            "           1.4008e+00, -2.6671e-01, -4.9739e-01, -6.7269e-01,  8.3904e-01,\n",
            "           4.4793e-01,  1.2962e+00, -1.7509e-01, -6.5304e-01, -6.2061e-01,\n",
            "           1.1432e+00, -4.6299e-01,  1.7609e-01,  6.7266e-01,  1.5753e+00,\n",
            "          -8.2221e-03, -6.8196e-01,  4.6720e-01,  7.3865e-01,  7.5565e-01,\n",
            "           1.5612e-01, -1.6376e-01,  2.3303e-01,  3.2999e-01, -5.2075e-01,\n",
            "          -2.2198e-01, -1.3704e+00, -3.6240e-01, -3.2969e-01, -1.2172e+00,\n",
            "           8.2604e-01,  5.8892e-02,  2.5033e-01, -3.7089e-01,  4.8086e-01,\n",
            "           6.8339e-01, -1.5085e+00, -6.7706e-01,  5.2053e-01,  8.9213e-01,\n",
            "           9.2692e-01, -3.3978e-01, -9.7579e-01, -2.5324e+00, -2.6102e-01,\n",
            "          -1.4546e+00,  3.1553e-01,  4.6427e-01, -4.6073e-01,  6.2705e-03,\n",
            "          -4.8081e-02,  4.2091e-01, -4.3913e-01, -2.5099e-01, -9.1443e-01,\n",
            "           3.7213e-01, -1.2284e+00, -4.0076e-01,  3.3594e-01,  1.3187e-02,\n",
            "           1.9464e-01, -3.8672e-01,  2.3791e-01,  1.0802e+00,  4.0713e-01,\n",
            "          -6.2290e-01,  4.0395e-01,  1.4365e+00,  1.3830e+00, -1.3955e-01,\n",
            "           1.1634e+00, -7.8656e-01,  6.9641e-01, -1.3451e-01,  9.1569e-01,\n",
            "          -1.2819e+00, -8.4362e-01, -3.7477e-01, -4.0881e-01, -8.3407e-01,\n",
            "          -6.9759e-01, -6.3463e-02, -5.1198e-01,  3.0949e-02, -1.2111e-01,\n",
            "           7.5498e-01,  2.5623e+00, -7.3020e-01, -1.9512e-01, -2.5160e-01,\n",
            "           2.7109e-02, -1.4109e+00,  5.8835e-02, -1.0019e-01, -3.9246e-01,\n",
            "          -3.2420e-02,  6.2325e-01, -7.7209e-01, -3.4123e-01, -1.4743e+00,\n",
            "          -4.1880e-01,  7.4952e-02,  2.2638e-01, -5.1101e-01,  2.9631e-01,\n",
            "          -4.8925e-01, -8.3572e-01,  2.2724e-03,  8.3148e-01,  5.5744e-01,\n",
            "          -4.5985e-01,  6.0098e-01,  3.5831e-01,  4.6573e-01, -2.9138e-01,\n",
            "          -1.4271e+00, -5.5861e-01,  5.6563e-01, -1.0217e+00, -1.0991e+00,\n",
            "           1.8523e-01,  9.2498e-01, -9.0591e-01, -3.9950e-01,  4.5193e-01,\n",
            "          -5.4440e-01, -1.4520e-01, -9.1887e-02,  1.0653e+00,  1.2771e-01,\n",
            "           1.3448e+00, -2.7946e-01, -1.3133e+00, -2.5664e-01, -5.0430e-01]]],\n",
            "       device='cuda:0')\n"
          ]
        },
        {
          "output_type": "display_data",
          "data": {
            "text/plain": [
              "<Figure size 640x480 with 1 Axes>"
            ],
            "image/png": "[encoded data removed]"
          },
          "metadata": {}
        },
        {
          "output_type": "stream",
          "name": "stderr",
          "text": [
            "\rPredicting:   1%|          | 2/185 [00:01<01:46,  1.71it/s]"
          ]
        },
        {
          "output_type": "stream",
          "name": "stdout",
          "text": [
            "tensor([[[-2.5606e-01,  1.5333e+00, -3.4555e-01,  5.1729e-01,  2.2991e+00,\n",
            "           5.6238e-01, -1.9444e-01,  1.7105e+00,  5.4859e-01,  1.0288e+00,\n",
            "           1.7218e+00, -5.9012e-01, -1.3224e-01,  1.5271e+00, -1.3683e+00,\n",
            "           9.7937e-01, -1.0836e+00, -6.5773e-01, -1.9894e+00,  5.8206e-01,\n",
            "          -1.2284e+00,  9.9668e-01,  9.1879e-02, -6.2669e-01, -7.3792e-02,\n",
            "           1.4513e+00, -9.0484e-02,  3.0170e-01,  9.4487e-01, -7.8229e-01,\n",
            "           2.9218e-01,  9.7069e-01, -2.4953e+00, -5.8369e-01,  5.6820e-01,\n",
            "          -2.4670e-01, -3.8967e-01, -8.0182e-01, -1.1706e-01,  9.0927e-01,\n",
            "           8.6429e-01, -1.7861e-02, -2.8825e-01,  2.5365e-01, -8.5450e-01,\n",
            "          -2.6394e-01, -1.4944e+00, -3.1421e-01, -1.4915e-01,  6.7695e-02,\n",
            "           2.1955e-01,  2.3219e-01,  2.1480e-03,  4.9886e-01,  5.9302e-01,\n",
            "          -6.5023e-02, -5.6304e-01, -8.0059e-01,  1.3262e+00,  2.3500e-01,\n",
            "          -1.0276e+00, -1.0376e+00, -6.3059e-01,  9.9114e-01, -1.5501e-01,\n",
            "          -2.4046e-01,  8.5346e-01, -1.3350e-01, -1.0773e+00,  1.6964e+00,\n",
            "           1.1814e+00,  9.3191e-03, -8.4919e-01,  3.9514e-01,  3.2552e-01,\n",
            "          -3.7417e+00,  3.7659e-01, -5.6214e-01, -1.5998e+00,  4.0981e-02,\n",
            "          -3.5071e-01,  1.5750e+00,  1.6440e+00, -1.8939e+00, -1.1750e+00,\n",
            "           6.1394e-01, -7.7226e-01, -2.6949e-01, -4.7893e-01, -1.9931e+00,\n",
            "          -8.0662e-01,  9.1028e-01, -8.3882e-02,  3.7042e-01,  1.1166e+00,\n",
            "           9.5932e-01,  6.5633e-01, -2.1893e+00, -1.0149e+00,  4.0925e-02,\n",
            "          -4.2865e-01, -1.6408e+00,  1.1392e-01,  3.0558e-02, -2.3176e+00,\n",
            "          -1.4854e+00,  4.6697e-01,  9.7873e-01,  3.9631e-01, -4.1525e-01,\n",
            "          -4.5019e-01,  1.4581e+00,  2.5559e-01,  5.7954e-01,  1.0035e-01,\n",
            "          -7.9040e-01,  2.6741e-01, -2.4089e+00, -5.3625e-01, -2.5018e-01,\n",
            "           8.5796e-01, -1.1185e+00, -3.7818e-01,  7.8661e-01,  1.6526e-01,\n",
            "           4.0122e-01, -3.0734e-01, -4.1949e-01,  8.1640e-01, -4.4599e-02,\n",
            "          -3.2191e-01,  9.5262e-01, -2.4791e-01,  3.1078e-02,  1.7888e+00,\n",
            "          -9.5985e-01,  3.9667e-01,  8.1258e-01, -1.1206e+00,  8.6099e-01,\n",
            "          -2.2493e-01, -8.5295e-01, -4.1720e-02, -4.6058e-01, -1.4332e-01,\n",
            "           1.1180e+00, -1.5211e-02, -8.2994e-01,  1.4058e-01, -1.0582e-01,\n",
            "           1.3162e+00,  1.8978e+00,  6.4719e-01,  2.0156e-02, -9.7868e-01,\n",
            "           5.7848e-02,  1.7636e+00, -1.3967e+00,  9.5640e-01,  1.4109e+00,\n",
            "          -2.8795e-01, -7.9557e-01,  1.1512e+00,  1.4457e+00, -5.7799e-01,\n",
            "           1.1452e+00, -1.6786e-01, -3.9510e-01, -2.7760e-01,  4.3292e-01,\n",
            "           7.6279e-01,  2.1949e+00,  4.9462e-02, -1.0599e+00, -9.0663e-01,\n",
            "           8.2767e-01, -7.0243e-01, -1.2080e-02,  6.0258e-02,  1.0807e+00,\n",
            "          -1.5436e-01, -1.4204e+00,  1.5805e-01,  1.1399e+00,  4.6078e-01,\n",
            "           2.2676e-01, -2.8500e-01, -1.8481e-01, -7.3959e-02, -3.3958e-01,\n",
            "          -7.7268e-01, -1.2169e+00,  6.5007e-01, -4.1920e-01, -6.7924e-01,\n",
            "           1.8780e+00,  2.3476e-01,  4.2222e-01, -5.9970e-01, -6.5038e-01,\n",
            "           9.7990e-01, -1.3904e+00, -1.0163e+00,  9.9267e-01,  1.3350e+00,\n",
            "           6.3057e-01, -2.2428e-01, -1.2076e+00, -3.0935e+00, -4.6498e-01,\n",
            "          -1.7664e+00,  7.9979e-01, -8.6554e-01, -4.2066e-01,  1.0184e-01,\n",
            "           5.9276e-01,  1.0366e+00, -4.8561e-01, -5.3183e-01, -1.7756e+00,\n",
            "           2.1642e+00, -9.5145e-01, -4.6335e-01,  1.9527e-01,  2.8486e-03,\n",
            "          -6.5512e-01, -4.1235e-01, -2.7276e-01,  8.7060e-01,  5.1814e-01,\n",
            "          -1.4432e+00,  3.2466e-01,  5.6544e-01,  1.0112e+00, -8.1100e-01,\n",
            "           1.1556e+00, -1.2391e+00,  9.8132e-02, -3.3866e-02,  6.1057e-01,\n",
            "          -1.5814e+00, -4.4752e-01, -5.3132e-01, -5.9059e-01, -1.1243e+00,\n",
            "           1.0684e+00,  6.5730e-01, -6.4637e-01,  4.7436e-01, -1.6943e-02,\n",
            "           1.2592e+00,  2.6008e+00, -7.7723e-01, -2.4600e-01, -5.9072e-01,\n",
            "          -2.3521e-01, -2.6864e+00,  6.5303e-01,  1.2337e-01, -3.7321e-01,\n",
            "          -1.0502e-01,  7.8918e-02, -1.4971e+00,  6.1971e-01, -1.2140e+00,\n",
            "           3.5386e-01,  1.2551e+00, -1.0380e+00, -4.1051e-01, -1.6812e+00,\n",
            "          -6.7861e-01, -8.7745e-01,  3.3948e-01,  6.5140e-01,  1.9417e+00,\n",
            "          -3.7974e-01,  1.2229e+00,  3.8760e-02,  7.2650e-01, -4.6159e-01,\n",
            "          -1.4300e+00, -8.5611e-01,  7.1740e-01, -7.1921e-01, -1.3598e+00,\n",
            "           6.2978e-01,  1.0006e+00, -9.2266e-01, -3.3903e-01, -4.5466e-01,\n",
            "          -1.0098e+00, -6.2522e-01, -1.9768e-01,  9.7005e-01,  4.1059e-01,\n",
            "           1.6848e+00, -2.4319e-01, -2.2686e+00,  7.7101e-01, -6.0493e-01]]],\n",
            "       device='cuda:0')\n"
          ]
        },
        {
          "output_type": "display_data",
          "data": {
            "text/plain": [
              "<Figure size 640x480 with 1 Axes>"
            ],
            "image/png": "[encoded data removed]"
          },
          "metadata": {}
        },
        {
          "output_type": "stream",
          "name": "stderr",
          "text": [
            "\rPredicting:   2%|▏         | 3/185 [00:01<01:26,  2.11it/s]"
          ]
        },
        {
          "output_type": "stream",
          "name": "stdout",
          "text": [
            "tensor([[[ 0.2837,  0.5284, -0.0438,  0.2644,  1.0654, -0.0255,  0.2506,\n",
            "           1.0157, -0.8694,  0.2281,  0.4303, -0.1378,  0.0621,  0.5505,\n",
            "          -0.3314,  2.0738, -0.9540,  0.1193, -0.7942,  1.2232,  0.0045,\n",
            "           1.5494,  0.0993, -0.1896,  0.5109,  0.5860, -0.7588, -0.4112,\n",
            "           1.3904,  0.3470, -0.9006,  0.8838, -0.4421, -0.1507, -0.2818,\n",
            "          -0.5162,  0.0513,  0.5209, -0.3215, -0.0042,  1.5919, -0.4174,\n",
            "          -0.6776, -1.2564, -1.8451, -0.8334, -0.2318, -0.9685,  0.2527,\n",
            "           0.0310,  0.1408,  0.9041,  0.9715,  0.5437,  0.7592, -0.3733,\n",
            "           0.1527, -1.7941,  1.1774,  0.3788, -0.5714, -0.1510, -0.0885,\n",
            "          -0.1216, -0.0943,  0.5637,  1.6295, -0.1148, -1.4938,  1.4610,\n",
            "          -0.4358, -0.5707, -0.5615,  0.2783, -0.3590, -0.8545,  0.8644,\n",
            "          -1.0158,  0.3826, -1.0961, -1.2299,  1.4190,  0.0670, -0.2899,\n",
            "          -0.4794,  0.4024,  0.5632,  1.3070, -0.8051,  0.4035,  0.1047,\n",
            "           0.0368, -0.1614,  0.6924,  0.3418, -0.3703,  0.3421,  0.1480,\n",
            "           0.0955, -0.9956,  0.1469,  2.0838, -0.9112,  0.7020, -1.3613,\n",
            "          -0.6204,  0.4326,  1.3629,  0.8528, -0.2114, -1.1224,  1.1764,\n",
            "           1.5953,  0.4632, -0.2522, -0.4743, -0.4612,  0.1258, -0.8011,\n",
            "           1.5319,  0.4693,  0.3426, -0.5216,  0.7786,  0.6063, -0.3168,\n",
            "           0.5264, -1.2081, -0.5218,  0.0393, -0.7575,  0.6455, -0.5541,\n",
            "          -0.3356, -0.0209,  0.9169, -0.5380, -0.1814, -0.7177,  1.5282,\n",
            "          -0.2475,  0.6193, -0.3708, -0.3403,  0.4154, -0.1144,  0.9364,\n",
            "          -0.4613, -0.1281, -0.6301,  0.9653, -0.3190,  0.4057,  0.1321,\n",
            "          -1.9621, -0.9547,  0.4468, -1.0454,  0.9975,  0.0352,  0.1427,\n",
            "          -0.1285,  0.2892,  0.3890,  1.2605,  3.0976,  0.3961, -1.3639,\n",
            "          -0.5429,  0.3862,  0.2889,  1.4015,  0.0550, -0.7473, -1.4517,\n",
            "           0.1441,  0.2796,  0.0077,  1.3861,  1.4568,  0.1287,  0.6371,\n",
            "          -0.7921,  0.6971,  1.5920, -0.2799,  0.3404, -1.1560,  0.4555,\n",
            "          -0.3115, -0.3286,  0.5613, -0.6566, -0.9732, -0.5551, -1.0281,\n",
            "          -0.2894,  0.5419, -0.3818,  0.8891,  0.7946, -0.8061, -0.4729,\n",
            "           0.7135,  0.2722,  1.0445, -0.6111, -0.3646, -2.2340, -0.5457,\n",
            "          -0.5107, -0.0460,  0.1893, -1.2398,  0.4663, -0.3274, -0.4715,\n",
            "          -0.4561,  0.2948,  0.2953, -0.6962, -1.1294, -0.3864,  0.5177,\n",
            "          -0.0297,  0.1031, -0.1578,  0.4424,  1.5620,  0.1893, -0.7595,\n",
            "           1.1817,  1.4074,  0.9044,  0.2825,  1.0386, -0.5850,  1.0921,\n",
            "           1.3543,  0.7669, -0.9246, -1.2128, -0.4193, -0.1837,  0.2234,\n",
            "          -1.6495, -0.4121,  0.1372, -0.2441, -0.0971,  0.0573,  3.0333,\n",
            "          -0.6882, -0.2751, -0.3273, -0.8781, -0.8757,  0.7269,  0.4643,\n",
            "          -0.1128, -1.0207, -1.2091, -0.8898,  0.5363, -0.3586, -0.6341,\n",
            "          -0.6395,  0.2525, -0.6246,  0.6258, -0.7423,  0.7042, -0.4041,\n",
            "           0.3482,  0.2681, -1.0848, -0.1181,  0.0078,  0.3331,  0.2619,\n",
            "          -0.8040,  1.3921,  0.6852, -2.5200, -0.4316, -0.0983,  1.6717,\n",
            "           0.0062, -0.6745, -0.4902, -1.1217, -0.4666,  0.5364,  0.2909,\n",
            "           0.2722,  1.3318, -0.4736, -0.4021,  0.2908, -0.4688]]],\n",
            "       device='cuda:0')\n"
          ]
        },
        {
          "output_type": "display_data",
          "data": {
            "text/plain": [
              "<Figure size 640x480 with 1 Axes>"
            ],
            "image/png": "[encoded data removed]"
          },
          "metadata": {}
        },
        {
          "output_type": "stream",
          "name": "stderr",
          "text": [
            "\rPredicting:   2%|▏         | 4/185 [00:01<01:20,  2.26it/s]"
          ]
        },
        {
          "output_type": "stream",
          "name": "stdout",
          "text": [
            "tensor([[[ 2.6270e-01,  1.0281e+00, -1.0914e+00,  1.9723e-01,  1.9454e+00,\n",
            "           2.6320e-01,  2.4283e-01,  1.8638e+00,  2.0451e-01,  7.0706e-01,\n",
            "           3.7320e-01, -2.1640e-01, -9.8943e-01,  1.7343e+00, -7.3668e-01,\n",
            "           6.9474e-01, -1.5570e+00, -1.4741e-01, -1.7925e+00,  6.9926e-01,\n",
            "          -9.7860e-01,  1.5237e+00, -2.3240e-01, -2.5515e-01,  1.0260e+00,\n",
            "           6.0649e-01, -2.7626e-01, -3.8326e-01,  1.2610e+00, -7.2607e-02,\n",
            "          -1.1589e+00,  9.3401e-01, -7.0814e-01, -4.7747e-01,  2.5116e-01,\n",
            "           2.6876e-01, -4.0341e-01, -1.1547e+00, -9.3439e-02,  4.4491e-01,\n",
            "           6.6574e-01, -5.1061e-01, -1.5271e+00, -2.7287e-01, -1.6060e+00,\n",
            "          -4.8464e-01, -9.8813e-01, -1.0897e+00, -1.2615e-01, -5.7030e-01,\n",
            "          -5.6591e-01, -2.3707e-01,  2.8518e-01,  6.0856e-01,  8.1534e-01,\n",
            "          -8.0478e-01,  1.8950e-02, -5.4169e-01,  1.0586e+00,  2.7973e-01,\n",
            "          -5.3758e-01, -4.7361e-01, -4.6001e-01,  7.6236e-01, -2.7635e-01,\n",
            "           1.5067e-01,  1.7485e+00, -2.6320e-01, -1.1401e+00,  1.2496e+00,\n",
            "           1.7641e+00, -2.1970e-01, -7.1348e-01,  5.6069e-01,  4.4895e-01,\n",
            "          -3.1771e+00,  8.1325e-01, -9.5901e-01, -1.0119e+00, -1.1801e+00,\n",
            "          -6.3598e-01,  1.7782e+00,  1.6154e-01, -3.7431e-01, -3.6997e-01,\n",
            "           2.7712e-01, -1.0599e+00,  8.5539e-01, -8.3512e-01, -2.5995e+00,\n",
            "          -5.7474e-01,  5.8198e-01, -1.2984e+00,  1.1404e+00,  6.5496e-01,\n",
            "           7.9036e-02, -5.9384e-01, -9.2727e-01, -1.5696e+00,  1.1192e-01,\n",
            "          -5.7525e-02,  2.4502e+00,  1.7001e-01,  1.3769e-01, -1.3962e+00,\n",
            "          -1.0830e+00,  6.4216e-01,  1.0249e+00,  6.6472e-01, -6.9917e-01,\n",
            "          -1.9780e+00,  4.2586e-01, -3.3137e-02,  1.5661e+00, -2.4235e-01,\n",
            "          -4.4443e-01,  4.8383e-01, -2.1507e+00, -8.6921e-01, -5.8180e-01,\n",
            "           7.2634e-01,  3.9145e-01, -7.4427e-01,  1.0160e+00,  1.8945e-01,\n",
            "           3.6108e-01,  4.5372e-01, -1.0625e+00, -8.4312e-02, -8.4546e-01,\n",
            "          -1.3135e+00,  8.8525e-01, -1.1702e+00, -1.3896e-01,  9.2475e-01,\n",
            "          -5.2892e-01,  4.0765e-01,  2.2971e-01, -1.2210e+00,  1.8693e+00,\n",
            "          -1.3443e-01, -3.0295e-01, -1.7264e-01, -9.7402e-01, -1.0161e+00,\n",
            "           4.3073e-01,  6.4217e-01, -3.6507e-01, -2.8884e-01, -4.5483e-01,\n",
            "           1.0997e+00,  8.6414e-01, -9.9294e-03, -5.8077e-01, -2.3772e+00,\n",
            "          -6.3490e-02,  5.5105e-01, -4.8394e-01,  2.4422e+00,  1.0679e+00,\n",
            "           4.6875e-01, -1.5840e+00,  5.0790e-01,  7.9599e-01,  6.1178e-01,\n",
            "           1.1118e+00,  2.0288e-01, -8.9400e-01, -8.2132e-01,  6.5738e-01,\n",
            "          -3.2278e-01,  7.6145e-01, -1.1943e-02, -2.0552e+00, -1.2398e-01,\n",
            "           1.7084e+00,  2.0004e-01,  4.0436e-01,  1.0101e+00,  3.4326e-01,\n",
            "           9.5762e-02, -9.4718e-01,  4.7004e-01,  6.6786e-01,  6.8702e-01,\n",
            "           7.1028e-02, -2.4474e-02,  1.3976e-01, -4.5060e-01, -1.1365e+00,\n",
            "          -5.3955e-01, -5.4824e-01, -4.9594e-01, -4.3755e-01, -6.3054e-01,\n",
            "           1.0667e+00,  8.9105e-02,  2.1206e-01, -5.1040e-01,  4.1426e-01,\n",
            "           1.6938e+00, -1.0233e+00, -1.1308e+00,  9.7883e-01,  7.5226e-01,\n",
            "           1.3310e+00, -6.8719e-01, -1.8121e-01, -2.5074e+00, -4.6801e-01,\n",
            "          -1.8132e+00,  6.2750e-01, -7.2383e-01,  1.3914e-01,  8.6546e-02,\n",
            "           6.3770e-01,  9.0492e-01, -4.1401e-01, -6.9580e-02, -1.0435e+00,\n",
            "           1.5291e+00, -2.4317e+00,  5.4675e-02,  5.3108e-01, -3.2190e-01,\n",
            "          -3.1496e-01,  2.2123e-02, -5.7199e-02, -3.1160e-01,  1.6078e-01,\n",
            "          -1.3825e+00,  4.7736e-01,  7.0814e-01,  1.2023e+00, -1.7830e-01,\n",
            "           5.8888e-01, -7.5841e-01,  7.6100e-01, -2.5129e-02,  1.0805e+00,\n",
            "          -3.2712e-01, -1.1172e+00, -8.7011e-01, -4.3157e-01, -3.8408e-01,\n",
            "          -2.6688e-01, -2.7361e-01, -2.2340e-01,  4.9999e-02,  6.5809e-01,\n",
            "           1.6128e+00,  2.4030e+00, -7.7921e-01, -4.7402e-01, -3.8193e-01,\n",
            "          -5.2245e-01, -1.6409e+00,  3.7346e-01, -1.5790e+00, -6.4646e-01,\n",
            "          -3.2151e-01,  6.2177e-02, -1.1205e+00,  4.4376e-01,  6.8554e-01,\n",
            "           1.2240e-01,  7.8301e-01, -6.9107e-01, -9.2788e-01,  6.5604e-01,\n",
            "          -3.3629e-01, -9.3262e-01, -4.3108e-01,  9.1524e-01,  1.5142e+00,\n",
            "          -1.0456e+00,  8.0085e-01,  3.1106e-01,  1.2075e+00, -3.4430e-01,\n",
            "          -2.2427e+00, -1.9552e-03,  8.3178e-01, -1.3742e+00, -1.3843e+00,\n",
            "           5.3681e-02,  1.0192e+00, -6.7652e-01, -2.3523e-01, -4.1133e-02,\n",
            "          -7.9027e-01, -5.0501e-01, -2.0698e-01,  1.9874e+00,  3.9626e-01,\n",
            "           2.3516e+00, -6.6021e-01, -1.1936e+00,  1.2437e+00, -2.7048e-01]]],\n",
            "       device='cuda:0')\n"
          ]
        },
        {
          "output_type": "display_data",
          "data": {
            "text/plain": [
              "<Figure size 640x480 with 1 Axes>"
            ],
            "image/png": "[encoded data removed]"
          },
          "metadata": {}
        },
        {
          "output_type": "stream",
          "name": "stderr",
          "text": [
            "\rPredicting:   3%|▎         | 5/185 [00:02<01:11,  2.51it/s]"
          ]
        },
        {
          "output_type": "stream",
          "name": "stdout",
          "text": [
            "tensor([[[ 6.5280e-02,  5.5264e-01, -8.1132e-01,  2.8924e-01,  1.1453e+00,\n",
            "           4.2795e-01,  1.1827e-01,  1.8778e+00,  2.8321e-03,  4.7232e-01,\n",
            "          -2.5694e-01, -4.9079e-01, -1.6710e+00,  1.1812e+00, -9.6847e-01,\n",
            "           5.6610e-01, -1.2899e+00, -6.2895e-01, -1.5723e-01,  7.6156e-01,\n",
            "          -1.2339e-01,  1.1200e+00,  7.0211e-01,  6.7504e-02,  1.6582e+00,\n",
            "          -7.4507e-01, -3.0628e-01, -1.0546e-01,  1.0876e+00,  5.7579e-01,\n",
            "          -1.9770e+00,  9.2434e-01, -1.3597e+00, -1.9237e+00, -1.1710e-01,\n",
            "           3.8229e-01, -4.0873e-01, -2.6682e-01,  2.1828e-02,  4.0282e-01,\n",
            "           1.1535e+00, -1.4205e-01, -1.1068e+00, -1.5949e+00, -1.6602e+00,\n",
            "          -1.4101e+00,  2.2062e-01, -1.3722e+00,  4.9724e-02, -1.0178e+00,\n",
            "          -6.5139e-03, -3.0673e-01,  7.3277e-01,  6.1147e-03,  1.0953e+00,\n",
            "           8.5199e-02,  1.2057e-01, -1.1349e+00,  1.4537e+00,  3.3348e-01,\n",
            "          -9.7745e-02,  2.1693e-01, -4.4095e-01,  3.2991e-01, -3.0325e-01,\n",
            "          -2.7748e-01,  1.5540e+00,  5.3985e-02, -9.6413e-01,  1.4302e+00,\n",
            "           5.0872e-01, -1.1364e-01, -7.9289e-01,  4.7351e-01,  1.0533e+00,\n",
            "          -2.4326e+00,  1.2449e+00, -5.2468e-01, -8.6310e-01, -1.3566e+00,\n",
            "          -1.5687e+00,  1.7246e+00,  2.6359e+00, -6.6955e-01, -2.3600e-01,\n",
            "           2.3589e-01, -8.2966e-01,  1.0333e+00, -6.4128e-01, -3.3241e+00,\n",
            "          -1.1692e+00,  1.1282e+00, -2.0626e+00,  6.2029e-01,  3.9155e-01,\n",
            "           1.4398e-01, -2.9099e+00,  2.6631e-01, -1.3072e-02, -1.7087e-01,\n",
            "           3.0571e-01,  2.8337e+00,  9.9024e-01,  6.1860e-01, -1.7420e+00,\n",
            "          -7.2419e-01,  9.0880e-01,  1.1909e+00, -3.1803e-02, -1.1331e+00,\n",
            "          -2.1952e+00,  3.7855e-01,  8.8985e-01,  1.6655e+00, -3.5684e-01,\n",
            "          -7.1537e-01, -3.8799e-01, -1.4794e+00, -6.9340e-01, -8.5301e-03,\n",
            "           7.6469e-01,  2.4500e+00, -1.4352e-01,  8.9292e-01,  1.5764e-01,\n",
            "           3.4283e-02,  3.3753e-01, -1.5294e+00, -4.6682e-01,  1.1978e-01,\n",
            "          -1.8508e+00,  1.1140e+00, -7.0788e-01, -1.9847e-01,  7.6389e-01,\n",
            "          -8.0514e-01,  6.5075e-01, -9.6672e-02, -6.5778e-01,  2.5612e+00,\n",
            "          -4.9252e-01,  3.6830e-02, -5.4676e-01, -1.0831e+00, -2.1467e+00,\n",
            "           5.3055e-01,  6.8770e-01,  1.3912e-02,  1.0571e-01, -7.0459e-01,\n",
            "           1.3481e+00,  4.1830e-01,  2.9256e-01, -3.1756e-01, -2.7627e+00,\n",
            "           8.0481e-01,  2.2311e-01, -2.0068e-01,  2.0606e+00,  9.8798e-01,\n",
            "          -5.2293e-01, -6.8723e-01,  1.4971e-01, -4.3191e-01, -8.9988e-02,\n",
            "           2.4129e+00, -6.5079e-01, -1.3377e+00, -2.6909e-01,  7.9823e-01,\n",
            "          -6.6829e-02,  7.0405e-01,  5.3458e-01, -7.9568e-01, -1.5729e-01,\n",
            "           1.7435e+00, -4.5677e-01,  1.8968e-01,  1.3059e+00,  1.1854e+00,\n",
            "          -2.8952e-02,  1.0414e+00, -5.2159e-01,  5.8802e-01,  4.1974e-01,\n",
            "          -1.9084e-01, -2.2172e-01,  6.4426e-01, -1.1665e+00, -5.6022e-01,\n",
            "          -5.1258e-01, -2.1949e+00, -7.6086e-01, -9.7445e-01, -1.0004e+00,\n",
            "           2.9455e-02, -2.7562e-01,  3.6654e-01, -1.0415e+00,  1.3507e+00,\n",
            "           9.6897e-01, -5.9575e-01, -5.5157e-01,  3.6963e-01,  1.0353e+00,\n",
            "           5.1357e-01, -5.0486e-01, -1.1955e+00, -2.8007e+00, -7.9454e-01,\n",
            "          -3.1404e+00,  2.7564e-01, -3.7774e-01, -4.4274e-01, -2.4993e-01,\n",
            "           3.2406e-01,  3.6851e-01, -1.6541e+00, -2.2689e-02, -2.3986e-01,\n",
            "           6.8452e-01, -2.8721e+00, -1.5726e-01,  3.7820e-01, -2.0725e-01,\n",
            "          -6.3244e-01,  3.1198e-01, -3.7096e-01,  6.6371e-01,  4.0889e-01,\n",
            "          -4.9383e-01,  8.4342e-01,  1.1783e+00,  8.8365e-01, -2.4312e-01,\n",
            "           1.3401e+00, -1.6629e-01,  8.3657e-01, -2.9359e-01,  8.1065e-01,\n",
            "          -1.5608e+00, -1.3060e+00, -1.1250e+00, -5.6219e-01, -6.7957e-01,\n",
            "          -5.5969e-01, -5.5475e-01, -5.2706e-01, -2.0684e-02,  3.2443e-01,\n",
            "           1.0309e+00,  1.6663e+00, -6.0427e-01, -9.5378e-01, -2.9412e-01,\n",
            "           1.6518e-01, -1.4336e+00,  3.8129e-01, -4.3490e-01, -3.3471e-01,\n",
            "          -1.0785e+00,  4.5894e-01, -5.2026e-01, -2.4518e-01, -5.4403e-01,\n",
            "          -4.7512e-01, -6.7474e-02, -6.7794e-01, -9.9582e-01,  4.2837e-01,\n",
            "          -1.2762e-01, -9.3771e-01, -7.9433e-01,  7.6622e-01,  1.2363e+00,\n",
            "          -9.4400e-01,  9.5768e-01,  6.9958e-02,  3.2495e-01, -3.0302e-01,\n",
            "          -2.2800e+00, -1.9920e-01,  9.2887e-01, -7.6145e-01, -1.1769e+00,\n",
            "           1.5279e-01,  9.0600e-01, -1.2402e-01, -4.6720e-01,  9.0016e-01,\n",
            "          -8.7429e-01, -1.0636e-01, -3.8479e-01,  2.1773e+00,  3.7413e-01,\n",
            "           1.6121e+00, -8.7773e-01, -6.7423e-01,  2.6808e-02,  2.6813e-01]]],\n",
            "       device='cuda:0')\n"
          ]
        },
        {
          "output_type": "display_data",
          "data": {
            "text/plain": [
              "<Figure size 640x480 with 1 Axes>"
            ],
            "image/png": "[encoded data removed]"
          },
          "metadata": {}
        },
        {
          "output_type": "stream",
          "name": "stderr",
          "text": [
            "\rPredicting:   3%|▎         | 6/185 [00:02<01:05,  2.73it/s]"
          ]
        },
        {
          "output_type": "stream",
          "name": "stdout",
          "text": [
            "tensor([[[ 3.1666e-01,  4.0601e-01, -5.4549e-02,  2.5554e-01,  8.7842e-01,\n",
            "           3.1431e-04,  3.1650e-01,  1.2965e+00, -9.6187e-01,  3.4141e-01,\n",
            "           2.4348e-01, -4.6537e-02, -1.8463e-01,  7.7296e-01, -3.6896e-01,\n",
            "           1.9324e+00, -2.6214e+00,  4.9380e-01, -6.9942e-01,  9.9004e-01,\n",
            "           8.9281e-01,  7.9684e-01,  5.1070e-01, -2.8241e-01,  1.6074e-01,\n",
            "          -2.0509e-01, -4.7555e-01, -4.2881e-01,  1.3732e+00,  6.0701e-01,\n",
            "          -4.8765e-01,  8.4007e-01, -1.6417e+00, -7.6538e-01, -6.5464e-01,\n",
            "          -7.6478e-01,  5.3115e-02,  5.3933e-01, -2.2420e-01,  2.2017e-01,\n",
            "           1.3251e+00, -1.1313e+00, -9.6301e-01, -1.6246e+00, -1.6637e+00,\n",
            "          -8.5872e-01,  5.2880e-01, -7.6787e-01,  1.7721e-01, -3.0546e-01,\n",
            "          -5.6009e-02,  9.1185e-01,  9.1086e-01,  4.9569e-01,  1.0419e+00,\n",
            "          -4.1181e-01,  6.9510e-01, -7.4431e-01,  1.4104e+00,  5.3218e-01,\n",
            "           1.5513e-01,  6.4722e-01,  6.5083e-02, -4.7221e-01, -7.8811e-02,\n",
            "           1.1292e+00,  1.3505e+00, -9.7055e-02, -1.4592e+00,  1.4132e+00,\n",
            "          -1.5535e+00, -6.9156e-01,  9.6288e-02,  8.7305e-01, -3.9342e-01,\n",
            "           7.6897e-02,  6.1457e-01, -2.6795e-01,  1.0927e+00, -1.2157e+00,\n",
            "          -8.2079e-01,  1.5654e+00,  7.2522e-01, -4.6061e-02, -6.0170e-01,\n",
            "           3.4472e-01,  1.0187e+00,  1.5767e+00, -1.1849e-01,  6.1542e-01,\n",
            "           4.8154e-01,  2.0554e-01, -1.3690e+00,  1.8159e-01, -1.5409e-01,\n",
            "          -5.6349e-01,  2.6490e-02,  2.9379e-01,  9.8366e-01, -1.1009e+00,\n",
            "           2.4951e-01,  4.3783e+00, -4.7374e-01,  4.7596e-01, -1.5971e+00,\n",
            "          -5.2531e-01,  5.0467e-01,  1.2397e+00,  6.7509e-01, -3.1984e-01,\n",
            "          -1.0520e+00,  6.8865e-01,  8.4393e-01,  6.3663e-01, -6.0002e-01,\n",
            "          -5.3739e-01, -7.3763e-01,  3.8089e-02, -8.0264e-01,  6.9553e-01,\n",
            "           4.2491e-01,  1.3985e-01, -6.3903e-01,  7.3437e-01,  8.3313e-01,\n",
            "          -5.4253e-01,  6.0705e-01, -9.0751e-01, -3.2401e-01,  3.1184e-01,\n",
            "          -6.3344e-01,  6.2413e-01,  8.4484e-02, -2.6044e-01,  3.9549e-02,\n",
            "          -2.0212e-02, -5.9302e-01, -5.3114e-01, -2.9654e-01,  1.9393e+00,\n",
            "           7.2925e-02,  7.8568e-01, -3.1823e-03, -1.3211e+00, -1.0677e-01,\n",
            "          -3.4709e-01,  9.3104e-01, -2.1093e-01, -9.0912e-01, -7.3737e-01,\n",
            "           9.4806e-01, -4.9696e-01,  3.6826e-01,  5.8942e-01, -1.5168e+00,\n",
            "          -8.8804e-01,  4.0437e-01, -1.1752e+00,  7.4610e-01, -2.5052e-01,\n",
            "           6.8526e-01, -1.1601e-01,  1.0294e-02, -5.5753e-01,  1.3901e+00,\n",
            "           2.2894e+00, -5.5641e-01, -1.0575e+00, -7.1634e-01,  3.4821e-01,\n",
            "          -8.2873e-02,  1.7515e+00,  7.6756e-02, -7.2649e-01, -1.6314e+00,\n",
            "          -4.3614e-01,  2.9949e-01, -6.2133e-02,  1.4518e+00,  1.8247e+00,\n",
            "          -2.5564e-02,  1.1590e+00, -1.0472e+00,  7.3389e-01,  1.7123e+00,\n",
            "          -4.4179e-01,  3.6131e-01,  7.5571e-02,  1.2603e+00, -7.3439e-01,\n",
            "           3.5304e-01,  4.7816e-01, -1.0709e+00, -2.5057e-01, -4.5213e-01,\n",
            "          -1.7306e+00, -2.2733e-01,  5.3296e-01, -2.0603e-01,  3.1213e-01,\n",
            "          -5.3939e-02, -5.4085e-01, -2.1560e-01,  6.8561e-01,  7.8813e-01,\n",
            "           8.1345e-01, -6.7849e-01, -1.2620e+00, -1.5826e+00, -4.3770e-01,\n",
            "          -4.8072e-01, -2.0826e-01,  5.1359e-01, -1.1624e+00,  3.8106e-01,\n",
            "          -6.7856e-01, -5.9586e-01, -9.6713e-01,  7.0793e-01,  4.4699e-02,\n",
            "          -1.0601e+00, -9.9098e-01, -2.9211e-01,  5.6789e-01, -1.4616e-01,\n",
            "           7.3959e-01,  2.1869e-02,  4.4595e-01,  1.5441e+00,  4.4868e-02,\n",
            "          -6.7243e-01,  1.0193e+00,  1.6896e+00,  1.4775e+00,  1.5741e-01,\n",
            "           7.2659e-01, -1.1905e+00,  1.1990e+00,  1.4717e+00,  1.0211e+00,\n",
            "          -7.7681e-01, -1.2255e+00, -3.4157e-01, -1.4584e-01,  8.4477e-02,\n",
            "          -1.9507e+00, -5.5801e-01, -6.7624e-01, -6.1631e-01, -4.9463e-01,\n",
            "           3.6697e-01,  3.8724e+00, -4.7222e-01, -5.1383e-01, -3.0437e-01,\n",
            "          -2.5799e-01, -9.3330e-01,  1.0045e+00, -2.7432e-02,  1.6823e-01,\n",
            "          -9.8073e-01, -1.3120e+00,  8.5156e-02,  8.9955e-01,  5.8063e-01,\n",
            "          -8.9631e-01, -1.5339e-01, -2.6676e-01, -1.0544e+00,  9.2777e-01,\n",
            "          -1.5611e-01,  9.7553e-01, -6.6044e-01,  6.3976e-01, -1.6359e-01,\n",
            "          -1.0465e+00, -4.4795e-01, -1.1261e-01,  1.4427e-01,  3.6442e-01,\n",
            "          -1.1728e+00,  1.8895e+00,  9.6760e-01, -2.4044e+00, -3.9739e-01,\n",
            "          -7.0636e-01,  2.5643e+00,  4.4805e-01, -6.5174e-01, -3.0438e-01,\n",
            "          -7.2348e-01, -3.8528e-01,  5.1495e-01,  2.6613e-01,  2.3286e-01,\n",
            "           1.1320e+00,  1.0726e-01, -8.3237e-01, -1.6481e-01, -1.4639e-01]]],\n",
            "       device='cuda:0')\n"
          ]
        },
        {
          "output_type": "display_data",
          "data": {
            "text/plain": [
              "<Figure size 640x480 with 1 Axes>"
            ],
            "image/png": "[encoded data removed]"
          },
          "metadata": {}
        },
        {
          "output_type": "stream",
          "name": "stderr",
          "text": [
            "\rPredicting:   4%|▍         | 7/185 [00:02<01:08,  2.61it/s]"
          ]
        },
        {
          "output_type": "stream",
          "name": "stdout",
          "text": [
            "tensor([[[-0.1224,  0.9992, -0.2349,  0.4962,  1.1102, -0.0453,  0.2621,\n",
            "           1.3117, -0.4732,  0.6661,  1.1214, -0.1548, -0.1979,  0.8683,\n",
            "          -1.0423,  1.2151, -1.4883, -0.2786, -1.5199,  1.1251, -0.2385,\n",
            "           0.9473,  0.1797, -0.3033,  0.4045,  0.8853, -0.4268, -0.2118,\n",
            "           1.1891,  0.0568, -1.3119,  0.8632, -1.9201, -0.7266, -0.1539,\n",
            "          -0.6534, -0.3092,  0.1698,  0.0462,  0.2356,  1.2601, -0.3444,\n",
            "          -0.6012, -1.0340, -1.9521, -0.9922, -0.3900, -0.8322, -0.1734,\n",
            "          -0.5276,  0.2593,  0.5188,  1.1187,  0.4443,  1.1121, -0.0416,\n",
            "           0.0826, -1.7754,  1.6122,  0.2674, -0.6858, -0.2968, -0.4367,\n",
            "           0.4954, -0.0952,  0.3259,  1.9913, -0.1568, -1.4898,  2.1094,\n",
            "           0.2203, -0.4301, -0.3040,  0.5299,  0.1609, -0.6836,  0.6082,\n",
            "          -1.1887, -0.1288, -1.2025, -1.1594,  1.5661,  1.2706, -1.1894,\n",
            "          -0.6560,  0.4251, -0.2548,  0.6660, -0.9799, -0.1597, -0.7446,\n",
            "           0.7235, -1.3984,  0.2513,  0.3481,  0.1861, -0.3232, -1.0650,\n",
            "           0.0152, -0.2353,  0.3684,  2.6820, -0.0483,  0.3910, -1.8339,\n",
            "          -1.0804,  0.5685,  1.0960,  0.6255, -0.5466, -1.4451,  1.7119,\n",
            "           0.0786,  0.8156, -0.4693, -0.6752, -0.4507, -1.0511, -0.6832,\n",
            "           1.1791,  1.1363, -0.3902, -0.6498,  0.6094,  0.4052, -0.2084,\n",
            "          -0.0868, -1.1447, -0.1450, -0.1197, -0.1661,  1.0085, -0.3230,\n",
            "          -0.2017,  0.7171, -0.2353, -0.0082, -0.0589, -0.5541,  2.4045,\n",
            "          -0.2351,  0.2309,  0.0588, -0.7708, -0.0680,  0.3768,  0.4702,\n",
            "          -0.4291, -0.5514, -0.4154,  1.1598,  0.6681,  0.4453,  0.2475,\n",
            "          -1.8723, -0.6709,  0.8814, -1.2577,  0.8251,  0.7069,  0.1761,\n",
            "          -0.5819,  0.4005, -0.2880,  0.7227,  1.7778, -0.6013, -1.0941,\n",
            "          -0.3681,  0.4041,  0.4993,  1.6019,  0.0780, -0.6717, -0.8294,\n",
            "           0.3651, -0.6874,  0.1507,  1.2062,  1.5652, -0.1337,  0.7538,\n",
            "          -0.1419,  0.9376,  1.2812,  0.0530,  0.6055,  0.0181,  0.6536,\n",
            "          -0.5415, -0.7939, -0.3445,  0.2069, -0.4452, -0.8262, -0.8176,\n",
            "          -0.0540,  0.5698, -0.4729,  1.0111,  0.6207, -1.2636, -0.4100,\n",
            "           0.8183,  1.0283,  1.3189, -0.4342, -1.7284, -2.3404, -0.7823,\n",
            "          -0.7208,  0.1840, -0.1017, -0.6757,  0.0836, -0.3224, -0.3782,\n",
            "          -0.9187,  0.0423, -0.3905, -0.4907, -0.9674, -0.4533,  0.3350,\n",
            "          -0.0288, -0.0906, -0.2695,  0.7347,  1.5468,  0.6853, -0.6298,\n",
            "           0.8699,  1.0273,  1.6258, -0.0576,  1.0722, -0.7958,  0.8924,\n",
            "           0.9645,  1.1295, -0.9143, -1.1193, -0.5996, -0.3149, -0.3226,\n",
            "          -0.9780, -0.2468, -0.1560, -0.2505, -0.2707,  0.3615,  3.5668,\n",
            "          -0.8474, -0.0182, -0.3232, -0.6140, -1.1164,  0.6027,  0.0667,\n",
            "          -0.0260, -0.0751, -0.6063, -0.5169,  0.2367, -0.5400, -0.4073,\n",
            "           0.4139, -0.7702, -0.9877,  0.5238, -0.4967,  0.2808, -0.1137,\n",
            "           0.5468,  0.4991, -0.9851,  0.3135,  0.3745,  0.7660,  0.0647,\n",
            "          -1.1963,  0.7301,  0.3788, -1.3478, -1.0232,  0.1288,  1.8442,\n",
            "          -0.0353, -0.6316, -0.5409, -0.8460, -0.6118,  0.2434,  0.5155,\n",
            "           0.2079,  1.7565, -0.3752, -1.3489,  0.3835, -0.2156]]],\n",
            "       device='cuda:0')\n"
          ]
        },
        {
          "output_type": "display_data",
          "data": {
            "text/plain": [
              "<Figure size 640x480 with 1 Axes>"
            ],
            "image/png": "[encoded data removed]"
          },
          "metadata": {}
        },
        {
          "output_type": "stream",
          "name": "stderr",
          "text": [
            "\rPredicting:   4%|▍         | 8/185 [00:03<01:09,  2.55it/s]"
          ]
        },
        {
          "output_type": "stream",
          "name": "stdout",
          "text": [
            "tensor([[[ 7.5108e-02,  8.1642e-01, -4.0302e-01,  4.7301e-01,  7.8443e-01,\n",
            "           1.3243e-01,  1.3416e-01,  1.5981e+00, -3.7214e-01,  6.7810e-02,\n",
            "           2.3761e-01, -3.3919e-01, -1.5061e+00,  8.2494e-01, -8.0085e-01,\n",
            "           1.6301e-01, -1.0469e+00, -7.8432e-01,  6.5058e-01,  1.0329e+00,\n",
            "           4.3696e-01,  5.6333e-01,  2.8584e-01, -9.6386e-02,  1.5820e+00,\n",
            "          -5.8809e-01,  2.6941e-01,  1.3557e-03,  1.1499e+00,  1.0379e+00,\n",
            "          -2.0953e+00,  6.1425e-01, -2.0591e+00, -3.0706e+00,  8.0166e-02,\n",
            "          -3.9475e-01, -1.9493e-01,  1.9305e-01, -1.0495e-01,  2.1656e-01,\n",
            "           1.8600e+00, -4.8175e-01, -6.3529e-01, -1.7871e+00, -2.3749e+00,\n",
            "          -1.1458e+00,  9.8731e-01, -1.4062e+00,  1.2003e-01, -7.4790e-01,\n",
            "           3.9637e-01,  1.2617e-01,  8.6779e-01,  2.7904e-01,  1.2863e+00,\n",
            "           7.7071e-01,  2.5370e-01, -1.1270e+00,  1.5130e+00,  3.2524e-01,\n",
            "           1.8897e-01,  7.5798e-01, -4.5033e-01,  1.4279e-02, -1.6937e-01,\n",
            "           3.7913e-01,  2.7458e+00,  2.8298e-01, -1.5378e+00,  1.7642e+00,\n",
            "          -1.7613e-01, -3.6048e-01, -4.5055e-01,  2.8404e-01,  6.5844e-01,\n",
            "          -1.5367e+00,  1.2884e+00, -1.8391e+00, -1.9788e-01, -1.7987e+00,\n",
            "          -8.6190e-01,  1.9019e+00,  2.4106e+00, -4.2865e-01,  6.2176e-02,\n",
            "           2.1277e-01, -4.8654e-02,  1.7985e+00, -7.5454e-01, -1.4931e+00,\n",
            "          -7.5906e-01,  8.8686e-01, -1.5918e+00,  3.8829e-01,  1.9809e-01,\n",
            "          -1.7778e-01, -1.1867e+00,  4.5760e-01,  1.6178e-01, -9.5872e-01,\n",
            "           3.5463e-01,  4.1306e+00,  6.0786e-01,  7.1103e-01, -1.6460e+00,\n",
            "          -5.0893e-01,  8.0932e-01,  1.2210e+00,  3.8797e-01, -7.2295e-01,\n",
            "          -1.5277e+00,  8.3502e-01,  4.5070e-01,  1.3555e+00, -5.0383e-02,\n",
            "          -6.3408e-01, -3.3683e-01, -7.1874e-01, -5.6315e-01,  8.1872e-01,\n",
            "           4.3893e-01,  1.9929e+00,  3.5762e-01,  1.0827e+00,  6.5309e-01,\n",
            "          -4.6991e-01,  3.0828e-01, -1.6393e+00, -7.8330e-01, -3.2969e-02,\n",
            "          -6.5523e-01,  1.1472e+00, -6.4584e-01, -2.0096e-01,  5.5442e-01,\n",
            "          -1.8114e+00,  2.1682e-01, -2.7532e-01, -3.4692e-01,  2.6762e+00,\n",
            "          -2.6090e-01,  3.1626e-01, -5.3411e-01, -1.5581e+00, -1.3353e+00,\n",
            "           3.6102e-01,  7.1477e-01,  1.1870e-01, -9.7509e-01, -6.7022e-01,\n",
            "           1.2815e+00,  6.4978e-01,  2.2872e-01,  3.5237e-01, -2.7894e+00,\n",
            "          -3.0918e-01,  1.0583e-01, -1.0936e+00,  1.0784e+00,  5.6864e-01,\n",
            "          -2.5870e-01, -6.1322e-01, -5.8908e-02, -9.1421e-01,  1.0251e+00,\n",
            "           4.3121e+00, -4.0317e-01, -1.1820e+00, -2.7845e-01,  4.0086e-01,\n",
            "           4.8710e-02,  1.6352e+00,  5.4706e-01,  5.0517e-01, -6.9817e-01,\n",
            "           6.1023e-01,  1.9302e-01,  1.1262e-01,  1.9518e+00,  2.2876e+00,\n",
            "           2.9015e-02,  1.6707e+00, -7.8490e-01,  7.7335e-01,  5.3329e-01,\n",
            "           2.5228e-01,  6.6340e-02, -2.0999e-01, -6.6950e-01, -7.3160e-01,\n",
            "          -4.7694e-01, -1.3629e+00, -8.2887e-01, -1.0955e+00, -1.1554e+00,\n",
            "          -9.7125e-01, -7.3028e-01,  4.6538e-01, -1.0701e+00,  1.4468e+00,\n",
            "           3.3321e-01, -1.7046e+00, -9.8260e-01,  4.7209e-01,  1.0923e+00,\n",
            "           1.1993e+00, -4.2372e-01, -1.9142e+00, -2.3090e+00, -6.7096e-01,\n",
            "          -1.7476e+00, -1.8914e-01,  1.0072e+00, -1.4424e+00, -1.0680e-01,\n",
            "          -7.2750e-01,  2.9640e-01, -5.9587e-01,  5.5733e-01, -8.2719e-01,\n",
            "          -2.2585e-01, -2.1532e+00, -2.5999e-01,  1.1865e+00, -3.7250e-01,\n",
            "           3.8976e-01,  6.1811e-01,  1.2753e-01,  1.8641e+00,  6.3189e-01,\n",
            "          -3.9639e-01,  1.4313e+00,  1.4535e+00,  1.2650e+00, -1.0395e-01,\n",
            "           1.4539e+00, -4.7196e-01,  1.0764e+00,  2.1660e-01,  1.5188e+00,\n",
            "          -6.6335e-01, -9.8182e-01, -1.1023e+00, -2.3928e-01, -7.5611e-01,\n",
            "          -6.1499e-01, -7.8675e-01,  1.7675e-01,  4.3131e-01, -1.1356e-01,\n",
            "           8.2235e-01,  2.7588e+00, -1.2241e+00, -6.7810e-01, -2.1404e-01,\n",
            "           1.3793e-02, -1.3426e+00,  6.4163e-01, -7.1650e-01, -4.5000e-01,\n",
            "          -4.3891e-01, -5.3486e-01, -9.2340e-02,  2.9846e-02, -1.1199e+00,\n",
            "          -6.3687e-01, -1.0793e-01, -4.3030e-01, -1.2094e+00,  3.1350e-01,\n",
            "          -1.5386e-01,  3.9087e-01, -6.3059e-01,  8.1059e-01,  3.0311e-01,\n",
            "          -1.4324e+00,  3.7377e-01, -4.7575e-02,  5.6036e-01, -5.9740e-01,\n",
            "          -2.0686e+00,  9.4610e-01,  1.2196e+00, -6.1901e-01, -7.7798e-01,\n",
            "           2.5551e-01,  7.2983e-01,  8.3439e-01, -8.9289e-01,  1.4681e+00,\n",
            "          -6.3832e-01, -4.0705e-02, -1.2444e-01,  1.4725e+00, -3.2237e-02,\n",
            "           1.4606e+00, -8.7082e-01, -1.4433e+00, -1.0854e+00,  1.0298e+00]]],\n",
            "       device='cuda:0')\n"
          ]
        },
        {
          "output_type": "display_data",
          "data": {
            "text/plain": [
              "<Figure size 640x480 with 1 Axes>"
            ],
            "image/png": "[encoded data removed]"
          },
          "metadata": {}
        },
        {
          "output_type": "stream",
          "name": "stderr",
          "text": [
            "\rPredicting:   5%|▍         | 9/185 [00:03<01:00,  2.91it/s]"
          ]
        },
        {
          "output_type": "stream",
          "name": "stdout",
          "text": [
            "tensor([[[-9.0756e-02,  1.0101e+00, -6.9813e-01,  4.4129e-01,  8.3093e-01,\n",
            "          -4.9507e-02,  2.9231e-01,  1.6066e+00, -5.2526e-01,  6.0156e-01,\n",
            "           1.0870e+00,  1.9662e-01,  7.0094e-01,  1.6402e+00, -5.1462e-01,\n",
            "           7.7694e-01, -1.3073e+00, -2.5757e-01, -2.3006e+00,  1.0596e+00,\n",
            "          -8.2294e-01,  1.1720e+00, -5.1105e-01, -2.5269e-01,  2.7446e-01,\n",
            "           2.0700e+00, -3.6388e-01, -1.2389e-01,  1.5240e+00, -7.7223e-03,\n",
            "          -3.6864e-01,  1.3031e+00, -3.4846e+00, -3.9229e-01, -1.2637e-01,\n",
            "          -1.0562e+00, -4.2426e-01, -2.0418e-01,  5.9728e-01,  3.2707e-01,\n",
            "           1.0496e+00, -4.2695e-02, -7.7506e-01, -3.0079e-01, -1.3481e+00,\n",
            "          -2.7751e-01, -1.4313e+00, -1.1331e+00, -3.9301e-01, -4.6843e-01,\n",
            "           8.2178e-04,  2.2312e-01,  9.6074e-01,  7.4666e-01,  6.1851e-01,\n",
            "          -9.7865e-01, -1.0737e-01, -1.7070e+00,  1.4560e+00,  2.7403e-01,\n",
            "          -9.6377e-01, -1.3813e+00, -4.9997e-01,  5.6047e-01, -1.7745e-01,\n",
            "           1.0040e+00,  1.2396e+00, -1.1966e-01, -1.0963e+00,  1.7134e+00,\n",
            "           1.2062e+00, -3.3010e-01, -9.0577e-01,  3.8402e-01,  6.0979e-01,\n",
            "          -1.0879e+00,  5.3532e-01, -9.0766e-01, -1.1976e+00, -9.2822e-01,\n",
            "          -1.0636e+00,  1.1193e+00,  8.2698e-01, -1.2242e+00, -9.6535e-01,\n",
            "           5.4263e-01,  1.2347e-01,  1.0736e-01, -1.1420e+00, -8.2063e-01,\n",
            "          -7.2423e-01,  7.9121e-01, -1.4557e+00,  2.7195e-01,  3.0349e-01,\n",
            "           2.4769e-01, -3.1474e-01, -1.3418e+00, -1.5968e+00, -9.9126e-01,\n",
            "          -9.8158e-02,  1.3810e+00, -6.4687e-01, -3.5140e-01, -1.2344e+00,\n",
            "          -1.2461e+00,  3.3454e-01,  1.0629e+00,  7.5486e-01, -3.3177e-01,\n",
            "          -1.4274e+00,  1.8890e+00, -5.5081e-02,  1.0648e+00,  3.3410e-02,\n",
            "          -7.7587e-01,  5.4405e-02, -1.3103e+00, -8.7772e-01,  8.0242e-01,\n",
            "           1.1414e+00, -6.9201e-01, -6.7672e-01,  4.6466e-01,  4.6807e-01,\n",
            "           3.4031e-01, -5.8529e-02, -1.0318e+00, -1.0695e-02, -6.0205e-01,\n",
            "           3.6379e-01,  6.6111e-01, -5.1569e-01, -1.0476e-01,  6.2998e-01,\n",
            "          -1.2365e+00, -1.8902e-01, -4.6170e-02, -6.2902e-01,  2.0720e+00,\n",
            "          -2.7348e-01,  3.0493e-01, -1.8937e-01, -1.0005e+00, -1.1827e-02,\n",
            "           8.5820e-03,  5.6651e-01, -2.4648e-01, -6.6077e-01, -4.7680e-01,\n",
            "           1.1700e+00,  1.0924e+00,  4.0427e-01, -1.4009e-01, -2.2058e+00,\n",
            "           1.4265e-01,  9.1630e-01, -8.1019e-01,  1.0458e+00,  1.1668e+00,\n",
            "           4.3378e-01, -9.9983e-01,  5.5784e-01,  3.7867e-01,  7.5617e-01,\n",
            "           1.0160e+00, -9.8954e-02, -1.2498e+00, -2.3944e-01,  4.8981e-01,\n",
            "           3.1314e-01,  1.7313e+00, -4.1249e-01, -1.4182e+00,  5.0978e-01,\n",
            "          -1.4752e-01, -8.1263e-01,  3.5720e-01, -1.3447e-01,  1.4909e+00,\n",
            "          -1.9210e-02, -4.3017e-01,  6.5374e-01,  1.2569e+00,  1.2094e+00,\n",
            "           6.8086e-02,  8.1619e-01,  1.2230e-01,  9.5618e-01, -5.2067e-01,\n",
            "          -6.5052e-01, -2.6149e-02,  1.1281e-01, -3.4139e-01, -8.9600e-01,\n",
            "           6.7985e-01,  1.3455e-01,  4.2304e-01, -2.2471e-01,  4.4756e-01,\n",
            "           7.4209e-01, -7.7002e-01, -8.1690e-01,  8.2400e-01,  5.4597e-01,\n",
            "           1.3152e+00, -5.7471e-01, -3.8315e-01, -2.7709e+00, -5.3471e-01,\n",
            "          -3.7653e-01,  4.0874e-01, -7.7182e-01, -2.6867e-01,  5.8928e-02,\n",
            "          -4.6598e-01,  4.1723e-01, -1.0594e+00,  1.5290e-01, -6.4329e-01,\n",
            "          -8.2122e-02, -1.1259e+00, -2.3775e-01,  3.5272e-01,  3.3096e-02,\n",
            "          -7.0486e-01, -9.3596e-02,  6.0537e-01,  1.3795e+00,  4.5983e-01,\n",
            "          -6.0336e-01,  5.5217e-01,  3.8518e-01,  1.1149e+00,  2.6390e-03,\n",
            "           8.7342e-01, -3.9836e-01,  8.2269e-01,  2.7862e-01,  1.5424e+00,\n",
            "          -1.5369e-01, -8.0982e-01, -2.8281e-01, -2.0111e-01, -2.8325e-01,\n",
            "          -1.3048e+00, -8.0527e-02, -4.2272e-01, -1.6262e-01, -8.7507e-02,\n",
            "           6.1481e-01,  3.4429e+00, -7.4224e-01,  5.0981e-02, -3.6867e-01,\n",
            "          -9.0707e-01, -1.3219e+00,  8.1760e-01, -3.7735e-01, -1.9589e-01,\n",
            "           8.3819e-01, -3.9530e-01, -9.2380e-01,  3.7373e-02, -5.0356e-01,\n",
            "          -4.6555e-01,  3.9690e-01, -5.3542e-01, -4.8632e-01,  8.3886e-01,\n",
            "          -4.2404e-01, -3.0529e-02,  1.2530e-01,  7.3606e-01,  8.8160e-01,\n",
            "          -8.0391e-01,  3.1317e-01,  2.3974e-01,  1.2586e+00, -3.9881e-02,\n",
            "          -7.6325e-01,  4.0156e-01,  4.0969e-01, -1.3261e+00, -1.5086e+00,\n",
            "           1.8312e-01,  1.0282e+00, -6.2655e-01, -4.4620e-01, -1.0750e+00,\n",
            "          -6.2821e-01, -7.9733e-01,  3.1376e-01,  1.4496e-01,  2.7808e-01,\n",
            "           1.5573e+00, -5.3008e-01, -9.9206e-01,  7.3181e-01, -4.0935e-01]]],\n",
            "       device='cuda:0')\n"
          ]
        },
        {
          "output_type": "display_data",
          "data": {
            "text/plain": [
              "<Figure size 640x480 with 1 Axes>"
            ],
            "image/png": "[encoded data removed]"
          },
          "metadata": {}
        },
        {
          "output_type": "stream",
          "name": "stderr",
          "text": [
            "\rPredicting:   5%|▍         | 9/185 [00:03<01:14,  2.36it/s]\n"
          ]
        }
      ]
    }
  ]
}
